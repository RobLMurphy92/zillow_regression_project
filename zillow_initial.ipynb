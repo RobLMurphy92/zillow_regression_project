{
 "cells": [
  {
   "cell_type": "markdown",
   "metadata": {},
   "source": [
    "## Initial Notebook"
   ]
  },
  {
   "cell_type": "code",
   "execution_count": 106,
   "metadata": {},
   "outputs": [],
   "source": [
    "import pandas as pd\n",
    "import numpy as np\n",
    "import os\n",
    "from env import host, user, password\n",
    "import seaborn as sns\n",
    "from pydataset import data\n",
    "import matplotlib.pyplot as plt\n",
    "import math\n",
    "\n",
    "from scipy import stats\n",
    "import explore\n",
    "import wrangle\n",
    "import zillow_wrangle\n",
    "from sklearn.model_selection import train_test_split\n",
    "from sklearn.impute import SimpleImputer\n",
    "from sklearn.preprocessing import LabelEncoder, OneHotEncoder, MinMaxScaler\n",
    "import decimal as d\n",
    "\n",
    "from sklearn.linear_model import LinearRegression\n",
    "from sklearn.feature_selection import RFE\n",
    "from sklearn.linear_model import LassoLars\n",
    "from sklearn.preprocessing import PolynomialFeatures\n",
    "from sklearn.linear_model import TweedieRegressor\n",
    "\n",
    "from sklearn.linear_model import LinearRegression, LassoLars\n",
    "from sklearn.preprocessing import PolynomialFeatures\n",
    "from sklearn.metrics import mean_squared_error\n",
    "from sklearn.metrics import explained_variance_score\n",
    "\n",
    "# ignore warnings\n",
    "import warnings\n",
    "warnings.filterwarnings(\"ignore\")\n",
    "\n",
    "\n"
   ]
  },
  {
   "cell_type": "markdown",
   "metadata": {},
   "source": [
    "---------------------------"
   ]
  },
  {
   "cell_type": "markdown",
   "metadata": {},
   "source": [
    "predict the values of single unit properties that the tax district assesses using the property data from those with a transaction during the \"hot months\" (in terms of real estate demand) of May-August, 2017.\n",
    "\n",
    "\n",
    "\n",
    "We would like to know what states and counties these are located in.\n",
    "We'd also like to know the distribution of tax rates for each county.\n",
    "\n",
    "The data should have the tax amounts and tax value of the home, so it shouldn't be too hard to calculate.\n",
    "\n",
    "\n",
    "Please include in your report to us the distribution of tax rates for each county so that we can see how much they vary within the properties in the county and the rates the bulk of the properties sit around.\n",
    "\n",
    "Note that this is separate from the model you will build, because if you use tax amount in your model, you would be using a future data point to predict a future data point, and that is cheating! \n",
    "- In other words, for prediction purposes, we won't know tax amount until we know tax value.\n"
   ]
  },
  {
   "cell_type": "markdown",
   "metadata": {},
   "source": [
    "-----------------------------------------------------"
   ]
  },
  {
   "cell_type": "markdown",
   "metadata": {},
   "source": [
    "First pass is our MVP\n",
    "\n",
    "- Acquire: whatever SQL query gives us workable data\n",
    "- Prepare: drop nulls, data split\n",
    "- Explore: visualize the target against independent variables\n",
    "- Model: baseline, LinearRegression, LassoLars compare performance with rmse on validate\n",
    "- NB. not worried about scaling or automated feature engineering"
   ]
  },
  {
   "cell_type": "markdown",
   "metadata": {},
   "source": [
    "## Planning:"
   ]
  },
  {
   "cell_type": "markdown",
   "metadata": {},
   "source": [
    "\n",
    "\n",
    "#### Goal: leave this section with (at least the outline of) a plan for the project documented in your README.md file.\n",
    "\n",
    "\n",
    "Brainstorming ideas and form hypotheses related to how variables might impact or relate to each other, both within independent variables and between the independent variables and dependent variable.\n",
    "\n",
    "Think about what things in your project are nice to have, versus which things are need to have. For example, you might document that you will only worry about trying to scale your features after creating and evaluating a baseline model."
   ]
  },
  {
   "cell_type": "markdown",
   "metadata": {},
   "source": [
    "#### Initial Hypothesis:\n",
    "\n",
    "#####  ###################\n",
    "\n",
    "Note: The target is continous!!! MVP asks for T-test(categorical vs continous) and Correlation Test(cont vs cont)\n",
    "\n",
    "- 1st: There is no linear correalation between the square footage of a house and assessment value. Possibly as square foot increase so does the assessment value. Contin vs contin Correlation Test.\n",
    "- 2nd: There is no difference in the assessment values for those who have 3 or more bedrooms than those who dont. Categorical and continous so T-Test\n",
    "- 3rd: There is no difference in the assessment values for those who have greater than 2.5 baths than those who dont. T-Test.\n",
    "\n",
    "\n"
   ]
  },
  {
   "cell_type": "markdown",
   "metadata": {},
   "source": [
    "Features to add: categorical columns which states yes and no for homes with 3 or more bedrooms. As well as homes with more than 2.5 bathrooms. "
   ]
  },
  {
   "cell_type": "markdown",
   "metadata": {},
   "source": [
    "- Just looking at the initial sequel dataset, there is a large amount of nulls in unit cnt, so this doesnt appear to be a feature which would be useful for this porject.\n",
    "-  Worth going back and adding age after giving the mvp, this can result assessment values being affected.\n",
    "\n",
    " "
   ]
  },
  {
   "cell_type": "markdown",
   "metadata": {},
   "source": [
    "## Acquire:"
   ]
  },
  {
   "cell_type": "code",
   "execution_count": 107,
   "metadata": {},
   "outputs": [
    {
     "data": {
      "text/html": [
       "<div>\n",
       "<style scoped>\n",
       "    .dataframe tbody tr th:only-of-type {\n",
       "        vertical-align: middle;\n",
       "    }\n",
       "\n",
       "    .dataframe tbody tr th {\n",
       "        vertical-align: top;\n",
       "    }\n",
       "\n",
       "    .dataframe thead th {\n",
       "        text-align: right;\n",
       "    }\n",
       "</style>\n",
       "<table border=\"1\" class=\"dataframe\">\n",
       "  <thead>\n",
       "    <tr style=\"text-align: right;\">\n",
       "      <th></th>\n",
       "      <th>bedroomcnt</th>\n",
       "      <th>bathroomcnt</th>\n",
       "      <th>calculatedfinishedsquarefeet</th>\n",
       "      <th>taxvaluedollarcnt</th>\n",
       "      <th>yearbuilt</th>\n",
       "      <th>taxamount</th>\n",
       "      <th>fips</th>\n",
       "      <th>parcelid</th>\n",
       "    </tr>\n",
       "  </thead>\n",
       "  <tbody>\n",
       "    <tr>\n",
       "      <th>0</th>\n",
       "      <td>3.0</td>\n",
       "      <td>2.0</td>\n",
       "      <td>1316.0</td>\n",
       "      <td>205123.0</td>\n",
       "      <td>1923.0</td>\n",
       "      <td>2627.48</td>\n",
       "      <td>6037.0</td>\n",
       "      <td>11721753</td>\n",
       "    </tr>\n",
       "    <tr>\n",
       "      <th>1</th>\n",
       "      <td>3.0</td>\n",
       "      <td>2.0</td>\n",
       "      <td>1458.0</td>\n",
       "      <td>136104.0</td>\n",
       "      <td>1970.0</td>\n",
       "      <td>2319.90</td>\n",
       "      <td>6037.0</td>\n",
       "      <td>11289917</td>\n",
       "    </tr>\n",
       "    <tr>\n",
       "      <th>2</th>\n",
       "      <td>2.0</td>\n",
       "      <td>1.0</td>\n",
       "      <td>1421.0</td>\n",
       "      <td>35606.0</td>\n",
       "      <td>1911.0</td>\n",
       "      <td>543.69</td>\n",
       "      <td>6037.0</td>\n",
       "      <td>11705026</td>\n",
       "    </tr>\n",
       "    <tr>\n",
       "      <th>3</th>\n",
       "      <td>4.0</td>\n",
       "      <td>3.0</td>\n",
       "      <td>2541.0</td>\n",
       "      <td>880456.0</td>\n",
       "      <td>2003.0</td>\n",
       "      <td>9819.72</td>\n",
       "      <td>6059.0</td>\n",
       "      <td>14269464</td>\n",
       "    </tr>\n",
       "    <tr>\n",
       "      <th>4</th>\n",
       "      <td>3.0</td>\n",
       "      <td>2.0</td>\n",
       "      <td>1491.0</td>\n",
       "      <td>107110.0</td>\n",
       "      <td>1955.0</td>\n",
       "      <td>1399.27</td>\n",
       "      <td>6037.0</td>\n",
       "      <td>11446756</td>\n",
       "    </tr>\n",
       "  </tbody>\n",
       "</table>\n",
       "</div>"
      ],
      "text/plain": [
       "   bedroomcnt  bathroomcnt  calculatedfinishedsquarefeet  taxvaluedollarcnt  \\\n",
       "0         3.0          2.0                        1316.0           205123.0   \n",
       "1         3.0          2.0                        1458.0           136104.0   \n",
       "2         2.0          1.0                        1421.0            35606.0   \n",
       "3         4.0          3.0                        2541.0           880456.0   \n",
       "4         3.0          2.0                        1491.0           107110.0   \n",
       "\n",
       "   yearbuilt  taxamount    fips  parcelid  \n",
       "0     1923.0    2627.48  6037.0  11721753  \n",
       "1     1970.0    2319.90  6037.0  11289917  \n",
       "2     1911.0     543.69  6037.0  11705026  \n",
       "3     2003.0    9819.72  6059.0  14269464  \n",
       "4     1955.0    1399.27  6037.0  11446756  "
      ]
     },
     "execution_count": 107,
     "metadata": {},
     "output_type": "execute_result"
    }
   ],
   "source": [
    "#created df.\n",
    "zillow_df = zillow_wrangle.get_zillow()\n",
    "zillow_df.head()"
   ]
  },
  {
   "cell_type": "code",
   "execution_count": 108,
   "metadata": {},
   "outputs": [
    {
     "data": {
      "text/html": [
       "<div>\n",
       "<style scoped>\n",
       "    .dataframe tbody tr th:only-of-type {\n",
       "        vertical-align: middle;\n",
       "    }\n",
       "\n",
       "    .dataframe tbody tr th {\n",
       "        vertical-align: top;\n",
       "    }\n",
       "\n",
       "    .dataframe thead th {\n",
       "        text-align: right;\n",
       "    }\n",
       "</style>\n",
       "<table border=\"1\" class=\"dataframe\">\n",
       "  <thead>\n",
       "    <tr style=\"text-align: right;\">\n",
       "      <th></th>\n",
       "      <th>bedroomcnt</th>\n",
       "      <th>bathroomcnt</th>\n",
       "      <th>calculatedfinishedsquarefeet</th>\n",
       "      <th>taxvaluedollarcnt</th>\n",
       "      <th>yearbuilt</th>\n",
       "      <th>taxamount</th>\n",
       "      <th>fips</th>\n",
       "      <th>parcelid</th>\n",
       "    </tr>\n",
       "  </thead>\n",
       "  <tbody>\n",
       "    <tr>\n",
       "      <th>0</th>\n",
       "      <td>3.0</td>\n",
       "      <td>2.0</td>\n",
       "      <td>1316.0</td>\n",
       "      <td>205123.0</td>\n",
       "      <td>1923.0</td>\n",
       "      <td>2627.48</td>\n",
       "      <td>6037.0</td>\n",
       "      <td>11721753</td>\n",
       "    </tr>\n",
       "    <tr>\n",
       "      <th>1</th>\n",
       "      <td>3.0</td>\n",
       "      <td>2.0</td>\n",
       "      <td>1458.0</td>\n",
       "      <td>136104.0</td>\n",
       "      <td>1970.0</td>\n",
       "      <td>2319.90</td>\n",
       "      <td>6037.0</td>\n",
       "      <td>11289917</td>\n",
       "    </tr>\n",
       "    <tr>\n",
       "      <th>2</th>\n",
       "      <td>2.0</td>\n",
       "      <td>1.0</td>\n",
       "      <td>1421.0</td>\n",
       "      <td>35606.0</td>\n",
       "      <td>1911.0</td>\n",
       "      <td>543.69</td>\n",
       "      <td>6037.0</td>\n",
       "      <td>11705026</td>\n",
       "    </tr>\n",
       "    <tr>\n",
       "      <th>3</th>\n",
       "      <td>4.0</td>\n",
       "      <td>3.0</td>\n",
       "      <td>2541.0</td>\n",
       "      <td>880456.0</td>\n",
       "      <td>2003.0</td>\n",
       "      <td>9819.72</td>\n",
       "      <td>6059.0</td>\n",
       "      <td>14269464</td>\n",
       "    </tr>\n",
       "    <tr>\n",
       "      <th>4</th>\n",
       "      <td>3.0</td>\n",
       "      <td>2.0</td>\n",
       "      <td>1491.0</td>\n",
       "      <td>107110.0</td>\n",
       "      <td>1955.0</td>\n",
       "      <td>1399.27</td>\n",
       "      <td>6037.0</td>\n",
       "      <td>11446756</td>\n",
       "    </tr>\n",
       "  </tbody>\n",
       "</table>\n",
       "</div>"
      ],
      "text/plain": [
       "   bedroomcnt  bathroomcnt  calculatedfinishedsquarefeet  taxvaluedollarcnt  \\\n",
       "0         3.0          2.0                        1316.0           205123.0   \n",
       "1         3.0          2.0                        1458.0           136104.0   \n",
       "2         2.0          1.0                        1421.0            35606.0   \n",
       "3         4.0          3.0                        2541.0           880456.0   \n",
       "4         3.0          2.0                        1491.0           107110.0   \n",
       "\n",
       "   yearbuilt  taxamount    fips  parcelid  \n",
       "0     1923.0    2627.48  6037.0  11721753  \n",
       "1     1970.0    2319.90  6037.0  11289917  \n",
       "2     1911.0     543.69  6037.0  11705026  \n",
       "3     2003.0    9819.72  6059.0  14269464  \n",
       "4     1955.0    1399.27  6037.0  11446756  "
      ]
     },
     "execution_count": 108,
     "metadata": {},
     "output_type": "execute_result"
    }
   ],
   "source": [
    "# initial thoughts: looking at some fields which can have dummies generated, taxvalue and tax amount need to be changed to int values.  \n",
    "# Fips can be changed to column stating county and state.\n",
    "# initial mvp just utilizes four fields. Can change parcel id to index, use this to see if duplicate parcels in df.\n",
    "zillow_df.head()"
   ]
  },
  {
   "cell_type": "code",
   "execution_count": 109,
   "metadata": {},
   "outputs": [
    {
     "name": "stdout",
     "output_type": "stream",
     "text": [
      "<class 'pandas.core.frame.DataFrame'>\n",
      "Int64Index: 28418 entries, 0 to 28417\n",
      "Data columns (total 8 columns):\n",
      " #   Column                        Non-Null Count  Dtype  \n",
      "---  ------                        --------------  -----  \n",
      " 0   bedroomcnt                    28418 non-null  float64\n",
      " 1   bathroomcnt                   28418 non-null  float64\n",
      " 2   calculatedfinishedsquarefeet  28345 non-null  float64\n",
      " 3   taxvaluedollarcnt             28417 non-null  float64\n",
      " 4   yearbuilt                     28322 non-null  float64\n",
      " 5   taxamount                     28417 non-null  float64\n",
      " 6   fips                          28418 non-null  float64\n",
      " 7   parcelid                      28418 non-null  int64  \n",
      "dtypes: float64(7), int64(1)\n",
      "memory usage: 2.0 MB\n"
     ]
    }
   ],
   "source": [
    "#looking into the data types. Can see also some fields contain null values.\n",
    "zillow_df.info()"
   ]
  },
  {
   "cell_type": "code",
   "execution_count": 110,
   "metadata": {},
   "outputs": [
    {
     "data": {
      "text/plain": [
       "(28418, 8)"
      ]
     },
     "execution_count": 110,
     "metadata": {},
     "output_type": "execute_result"
    }
   ],
   "source": [
    "# shape of our df is 28418 records and 8 fields\n",
    "zillow_df.shape"
   ]
  },
  {
   "cell_type": "code",
   "execution_count": 111,
   "metadata": {},
   "outputs": [
    {
     "data": {
      "text/html": [
       "<div>\n",
       "<style scoped>\n",
       "    .dataframe tbody tr th:only-of-type {\n",
       "        vertical-align: middle;\n",
       "    }\n",
       "\n",
       "    .dataframe tbody tr th {\n",
       "        vertical-align: top;\n",
       "    }\n",
       "\n",
       "    .dataframe thead th {\n",
       "        text-align: right;\n",
       "    }\n",
       "</style>\n",
       "<table border=\"1\" class=\"dataframe\">\n",
       "  <thead>\n",
       "    <tr style=\"text-align: right;\">\n",
       "      <th></th>\n",
       "      <th>count</th>\n",
       "      <th>mean</th>\n",
       "      <th>std</th>\n",
       "      <th>min</th>\n",
       "      <th>25%</th>\n",
       "      <th>50%</th>\n",
       "      <th>75%</th>\n",
       "      <th>max</th>\n",
       "    </tr>\n",
       "  </thead>\n",
       "  <tbody>\n",
       "    <tr>\n",
       "      <th>bedroomcnt</th>\n",
       "      <td>28418.0</td>\n",
       "      <td>3.298086e+00</td>\n",
       "      <td>9.547586e-01</td>\n",
       "      <td>0.00</td>\n",
       "      <td>3.00</td>\n",
       "      <td>3.0</td>\n",
       "      <td>4.00</td>\n",
       "      <td>1.200000e+01</td>\n",
       "    </tr>\n",
       "    <tr>\n",
       "      <th>bathroomcnt</th>\n",
       "      <td>28418.0</td>\n",
       "      <td>2.311070e+00</td>\n",
       "      <td>1.017817e+00</td>\n",
       "      <td>0.00</td>\n",
       "      <td>2.00</td>\n",
       "      <td>2.0</td>\n",
       "      <td>3.00</td>\n",
       "      <td>1.100000e+01</td>\n",
       "    </tr>\n",
       "    <tr>\n",
       "      <th>calculatedfinishedsquarefeet</th>\n",
       "      <td>28345.0</td>\n",
       "      <td>1.931781e+03</td>\n",
       "      <td>1.013657e+03</td>\n",
       "      <td>240.00</td>\n",
       "      <td>1276.00</td>\n",
       "      <td>1669.0</td>\n",
       "      <td>2319.00</td>\n",
       "      <td>3.564000e+04</td>\n",
       "    </tr>\n",
       "    <tr>\n",
       "      <th>taxvaluedollarcnt</th>\n",
       "      <td>28417.0</td>\n",
       "      <td>5.332912e+05</td>\n",
       "      <td>7.063144e+05</td>\n",
       "      <td>1000.00</td>\n",
       "      <td>198412.00</td>\n",
       "      <td>380733.0</td>\n",
       "      <td>630000.00</td>\n",
       "      <td>2.385837e+07</td>\n",
       "    </tr>\n",
       "    <tr>\n",
       "      <th>yearbuilt</th>\n",
       "      <td>28322.0</td>\n",
       "      <td>1.963908e+03</td>\n",
       "      <td>2.307474e+01</td>\n",
       "      <td>1878.00</td>\n",
       "      <td>1950.00</td>\n",
       "      <td>1961.0</td>\n",
       "      <td>1980.00</td>\n",
       "      <td>2.016000e+03</td>\n",
       "    </tr>\n",
       "    <tr>\n",
       "      <th>taxamount</th>\n",
       "      <td>28417.0</td>\n",
       "      <td>6.486383e+03</td>\n",
       "      <td>8.209046e+03</td>\n",
       "      <td>51.26</td>\n",
       "      <td>2690.92</td>\n",
       "      <td>4703.7</td>\n",
       "      <td>7495.44</td>\n",
       "      <td>2.767978e+05</td>\n",
       "    </tr>\n",
       "    <tr>\n",
       "      <th>fips</th>\n",
       "      <td>28418.0</td>\n",
       "      <td>6.050004e+03</td>\n",
       "      <td>2.191571e+01</td>\n",
       "      <td>6037.00</td>\n",
       "      <td>6037.00</td>\n",
       "      <td>6037.0</td>\n",
       "      <td>6059.00</td>\n",
       "      <td>6.111000e+03</td>\n",
       "    </tr>\n",
       "    <tr>\n",
       "      <th>parcelid</th>\n",
       "      <td>28418.0</td>\n",
       "      <td>1.307361e+07</td>\n",
       "      <td>3.747577e+06</td>\n",
       "      <td>10711855.00</td>\n",
       "      <td>11523237.25</td>\n",
       "      <td>12611531.0</td>\n",
       "      <td>14163710.25</td>\n",
       "      <td>1.676878e+08</td>\n",
       "    </tr>\n",
       "  </tbody>\n",
       "</table>\n",
       "</div>"
      ],
      "text/plain": [
       "                                count          mean           std  \\\n",
       "bedroomcnt                    28418.0  3.298086e+00  9.547586e-01   \n",
       "bathroomcnt                   28418.0  2.311070e+00  1.017817e+00   \n",
       "calculatedfinishedsquarefeet  28345.0  1.931781e+03  1.013657e+03   \n",
       "taxvaluedollarcnt             28417.0  5.332912e+05  7.063144e+05   \n",
       "yearbuilt                     28322.0  1.963908e+03  2.307474e+01   \n",
       "taxamount                     28417.0  6.486383e+03  8.209046e+03   \n",
       "fips                          28418.0  6.050004e+03  2.191571e+01   \n",
       "parcelid                      28418.0  1.307361e+07  3.747577e+06   \n",
       "\n",
       "                                      min          25%         50%  \\\n",
       "bedroomcnt                           0.00         3.00         3.0   \n",
       "bathroomcnt                          0.00         2.00         2.0   \n",
       "calculatedfinishedsquarefeet       240.00      1276.00      1669.0   \n",
       "taxvaluedollarcnt                 1000.00    198412.00    380733.0   \n",
       "yearbuilt                         1878.00      1950.00      1961.0   \n",
       "taxamount                           51.26      2690.92      4703.7   \n",
       "fips                              6037.00      6037.00      6037.0   \n",
       "parcelid                      10711855.00  11523237.25  12611531.0   \n",
       "\n",
       "                                      75%           max  \n",
       "bedroomcnt                           4.00  1.200000e+01  \n",
       "bathroomcnt                          3.00  1.100000e+01  \n",
       "calculatedfinishedsquarefeet      2319.00  3.564000e+04  \n",
       "taxvaluedollarcnt               630000.00  2.385837e+07  \n",
       "yearbuilt                         1980.00  2.016000e+03  \n",
       "taxamount                         7495.44  2.767978e+05  \n",
       "fips                              6059.00  6.111000e+03  \n",
       "parcelid                      14163710.25  1.676878e+08  "
      ]
     },
     "execution_count": 111,
     "metadata": {},
     "output_type": "execute_result"
    }
   ],
   "source": [
    "#### quick looks at the stat ####\n",
    "# max baths and beds are 11 and 12.\n",
    "# lowest taxvalue is 1000, max is 238583700\n",
    "#earliest house was built in 1878.\n",
    "\n",
    "zillow_df.describe().T"
   ]
  },
  {
   "cell_type": "markdown",
   "metadata": {},
   "source": [
    "### Main Takeaways:\n",
    "- Initial shape is 28418 records and 8 fields.\n",
    "- A few of the fields contain null values.\n",
    "- Looking at initial stats, seems like there is some potential outliers. \n",
    "- Implmented a sql query within a function which brings in dataframe filtered to hot months."
   ]
  },
  {
   "cell_type": "markdown",
   "metadata": {},
   "source": [
    "-----------------------------"
   ]
  },
  {
   "cell_type": "markdown",
   "metadata": {},
   "source": [
    "### Remember\n",
    "#### For the first iteration of your model, use only square feet of the home, number of bedrooms, and number of bathrooms to estimate the property's assessed value, taxvaluedollarcnt. You can expand this to other fields after you have completed an mvp (minimally viable product)."
   ]
  },
  {
   "cell_type": "code",
   "execution_count": null,
   "metadata": {},
   "outputs": [],
   "source": []
  },
  {
   "cell_type": "code",
   "execution_count": null,
   "metadata": {},
   "outputs": [],
   "source": []
  },
  {
   "cell_type": "code",
   "execution_count": null,
   "metadata": {},
   "outputs": [],
   "source": []
  },
  {
   "cell_type": "markdown",
   "metadata": {},
   "source": [
    "----------------------------------\n",
    "----------------------------------"
   ]
  },
  {
   "cell_type": "markdown",
   "metadata": {},
   "source": [
    "# Prepare:"
   ]
  },
  {
   "cell_type": "markdown",
   "metadata": {},
   "source": [
    "### Prior to house cleaning, want to only utilize four variables requested for mvp, also include parcelid for index."
   ]
  },
  {
   "cell_type": "code",
   "execution_count": 112,
   "metadata": {},
   "outputs": [
    {
     "data": {
      "text/html": [
       "<div>\n",
       "<style scoped>\n",
       "    .dataframe tbody tr th:only-of-type {\n",
       "        vertical-align: middle;\n",
       "    }\n",
       "\n",
       "    .dataframe tbody tr th {\n",
       "        vertical-align: top;\n",
       "    }\n",
       "\n",
       "    .dataframe thead th {\n",
       "        text-align: right;\n",
       "    }\n",
       "</style>\n",
       "<table border=\"1\" class=\"dataframe\">\n",
       "  <thead>\n",
       "    <tr style=\"text-align: right;\">\n",
       "      <th></th>\n",
       "      <th>bedroomcnt</th>\n",
       "      <th>bathroomcnt</th>\n",
       "      <th>calculatedfinishedsquarefeet</th>\n",
       "      <th>taxvaluedollarcnt</th>\n",
       "      <th>yearbuilt</th>\n",
       "      <th>taxamount</th>\n",
       "      <th>fips</th>\n",
       "    </tr>\n",
       "    <tr>\n",
       "      <th>parcelid</th>\n",
       "      <th></th>\n",
       "      <th></th>\n",
       "      <th></th>\n",
       "      <th></th>\n",
       "      <th></th>\n",
       "      <th></th>\n",
       "      <th></th>\n",
       "    </tr>\n",
       "  </thead>\n",
       "  <tbody>\n",
       "    <tr>\n",
       "      <th>11721753</th>\n",
       "      <td>3.0</td>\n",
       "      <td>2.0</td>\n",
       "      <td>1316.0</td>\n",
       "      <td>205123.0</td>\n",
       "      <td>1923.0</td>\n",
       "      <td>2627.48</td>\n",
       "      <td>6037.0</td>\n",
       "    </tr>\n",
       "    <tr>\n",
       "      <th>11289917</th>\n",
       "      <td>3.0</td>\n",
       "      <td>2.0</td>\n",
       "      <td>1458.0</td>\n",
       "      <td>136104.0</td>\n",
       "      <td>1970.0</td>\n",
       "      <td>2319.90</td>\n",
       "      <td>6037.0</td>\n",
       "    </tr>\n",
       "    <tr>\n",
       "      <th>11705026</th>\n",
       "      <td>2.0</td>\n",
       "      <td>1.0</td>\n",
       "      <td>1421.0</td>\n",
       "      <td>35606.0</td>\n",
       "      <td>1911.0</td>\n",
       "      <td>543.69</td>\n",
       "      <td>6037.0</td>\n",
       "    </tr>\n",
       "    <tr>\n",
       "      <th>14269464</th>\n",
       "      <td>4.0</td>\n",
       "      <td>3.0</td>\n",
       "      <td>2541.0</td>\n",
       "      <td>880456.0</td>\n",
       "      <td>2003.0</td>\n",
       "      <td>9819.72</td>\n",
       "      <td>6059.0</td>\n",
       "    </tr>\n",
       "    <tr>\n",
       "      <th>11446756</th>\n",
       "      <td>3.0</td>\n",
       "      <td>2.0</td>\n",
       "      <td>1491.0</td>\n",
       "      <td>107110.0</td>\n",
       "      <td>1955.0</td>\n",
       "      <td>1399.27</td>\n",
       "      <td>6037.0</td>\n",
       "    </tr>\n",
       "  </tbody>\n",
       "</table>\n",
       "</div>"
      ],
      "text/plain": [
       "          bedroomcnt  bathroomcnt  calculatedfinishedsquarefeet  \\\n",
       "parcelid                                                          \n",
       "11721753         3.0          2.0                        1316.0   \n",
       "11289917         3.0          2.0                        1458.0   \n",
       "11705026         2.0          1.0                        1421.0   \n",
       "14269464         4.0          3.0                        2541.0   \n",
       "11446756         3.0          2.0                        1491.0   \n",
       "\n",
       "          taxvaluedollarcnt  yearbuilt  taxamount    fips  \n",
       "parcelid                                                   \n",
       "11721753           205123.0     1923.0    2627.48  6037.0  \n",
       "11289917           136104.0     1970.0    2319.90  6037.0  \n",
       "11705026            35606.0     1911.0     543.69  6037.0  \n",
       "14269464           880456.0     2003.0    9819.72  6059.0  \n",
       "11446756           107110.0     1955.0    1399.27  6037.0  "
      ]
     },
     "execution_count": 112,
     "metadata": {},
     "output_type": "execute_result"
    }
   ],
   "source": [
    "#swithcing parcel_id to index\n",
    "zillow_df.set_index('parcelid', drop = True, inplace = True)\n",
    "zillow_df.head()"
   ]
  },
  {
   "cell_type": "code",
   "execution_count": null,
   "metadata": {},
   "outputs": [],
   "source": []
  },
  {
   "cell_type": "code",
   "execution_count": 113,
   "metadata": {},
   "outputs": [
    {
     "data": {
      "text/html": [
       "<div>\n",
       "<style scoped>\n",
       "    .dataframe tbody tr th:only-of-type {\n",
       "        vertical-align: middle;\n",
       "    }\n",
       "\n",
       "    .dataframe tbody tr th {\n",
       "        vertical-align: top;\n",
       "    }\n",
       "\n",
       "    .dataframe thead th {\n",
       "        text-align: right;\n",
       "    }\n",
       "</style>\n",
       "<table border=\"1\" class=\"dataframe\">\n",
       "  <thead>\n",
       "    <tr style=\"text-align: right;\">\n",
       "      <th></th>\n",
       "      <th>bedroomcnt</th>\n",
       "      <th>bathroomcnt</th>\n",
       "      <th>calculatedfinishedsquarefeet</th>\n",
       "      <th>taxvaluedollarcnt</th>\n",
       "      <th>yearbuilt</th>\n",
       "      <th>taxamount</th>\n",
       "      <th>fips</th>\n",
       "    </tr>\n",
       "    <tr>\n",
       "      <th>parcelid</th>\n",
       "      <th></th>\n",
       "      <th></th>\n",
       "      <th></th>\n",
       "      <th></th>\n",
       "      <th></th>\n",
       "      <th></th>\n",
       "      <th></th>\n",
       "    </tr>\n",
       "  </thead>\n",
       "  <tbody>\n",
       "    <tr>\n",
       "      <th>11721753</th>\n",
       "      <td>3.0</td>\n",
       "      <td>2.0</td>\n",
       "      <td>1316.0</td>\n",
       "      <td>205123.0</td>\n",
       "      <td>1923.0</td>\n",
       "      <td>2627.48</td>\n",
       "      <td>6037.0</td>\n",
       "    </tr>\n",
       "    <tr>\n",
       "      <th>11289917</th>\n",
       "      <td>3.0</td>\n",
       "      <td>2.0</td>\n",
       "      <td>1458.0</td>\n",
       "      <td>136104.0</td>\n",
       "      <td>1970.0</td>\n",
       "      <td>2319.90</td>\n",
       "      <td>6037.0</td>\n",
       "    </tr>\n",
       "    <tr>\n",
       "      <th>11705026</th>\n",
       "      <td>2.0</td>\n",
       "      <td>1.0</td>\n",
       "      <td>1421.0</td>\n",
       "      <td>35606.0</td>\n",
       "      <td>1911.0</td>\n",
       "      <td>543.69</td>\n",
       "      <td>6037.0</td>\n",
       "    </tr>\n",
       "    <tr>\n",
       "      <th>14269464</th>\n",
       "      <td>4.0</td>\n",
       "      <td>3.0</td>\n",
       "      <td>2541.0</td>\n",
       "      <td>880456.0</td>\n",
       "      <td>2003.0</td>\n",
       "      <td>9819.72</td>\n",
       "      <td>6059.0</td>\n",
       "    </tr>\n",
       "    <tr>\n",
       "      <th>11446756</th>\n",
       "      <td>3.0</td>\n",
       "      <td>2.0</td>\n",
       "      <td>1491.0</td>\n",
       "      <td>107110.0</td>\n",
       "      <td>1955.0</td>\n",
       "      <td>1399.27</td>\n",
       "      <td>6037.0</td>\n",
       "    </tr>\n",
       "  </tbody>\n",
       "</table>\n",
       "</div>"
      ],
      "text/plain": [
       "          bedroomcnt  bathroomcnt  calculatedfinishedsquarefeet  \\\n",
       "parcelid                                                          \n",
       "11721753         3.0          2.0                        1316.0   \n",
       "11289917         3.0          2.0                        1458.0   \n",
       "11705026         2.0          1.0                        1421.0   \n",
       "14269464         4.0          3.0                        2541.0   \n",
       "11446756         3.0          2.0                        1491.0   \n",
       "\n",
       "          taxvaluedollarcnt  yearbuilt  taxamount    fips  \n",
       "parcelid                                                   \n",
       "11721753           205123.0     1923.0    2627.48  6037.0  \n",
       "11289917           136104.0     1970.0    2319.90  6037.0  \n",
       "11705026            35606.0     1911.0     543.69  6037.0  \n",
       "14269464           880456.0     2003.0    9819.72  6059.0  \n",
       "11446756           107110.0     1955.0    1399.27  6037.0  "
      ]
     },
     "execution_count": 113,
     "metadata": {},
     "output_type": "execute_result"
    }
   ],
   "source": [
    "#swithcing parcel_id to index\n",
    "zillow_df.head()"
   ]
  },
  {
   "cell_type": "code",
   "execution_count": 114,
   "metadata": {},
   "outputs": [
    {
     "data": {
      "text/plain": [
       "bedroomcnt                       0\n",
       "bathroomcnt                      0\n",
       "calculatedfinishedsquarefeet    73\n",
       "taxvaluedollarcnt                1\n",
       "yearbuilt                       96\n",
       "taxamount                        1\n",
       "fips                             0\n",
       "dtype: int64"
      ]
     },
     "execution_count": 114,
     "metadata": {},
     "output_type": "execute_result"
    }
   ],
   "source": [
    "#getting the null count\n",
    "zillow_df.isnull().sum()"
   ]
  },
  {
   "cell_type": "code",
   "execution_count": 115,
   "metadata": {},
   "outputs": [
    {
     "data": {
      "text/plain": [
       "(28418, 7)"
      ]
     },
     "execution_count": 115,
     "metadata": {},
     "output_type": "execute_result"
    }
   ],
   "source": [
    "#shape of the dataframe\n",
    "zillow_df.shape"
   ]
  },
  {
   "cell_type": "code",
   "execution_count": 116,
   "metadata": {},
   "outputs": [
    {
     "data": {
      "text/html": [
       "<div>\n",
       "<style scoped>\n",
       "    .dataframe tbody tr th:only-of-type {\n",
       "        vertical-align: middle;\n",
       "    }\n",
       "\n",
       "    .dataframe tbody tr th {\n",
       "        vertical-align: top;\n",
       "    }\n",
       "\n",
       "    .dataframe thead th {\n",
       "        text-align: right;\n",
       "    }\n",
       "</style>\n",
       "<table border=\"1\" class=\"dataframe\">\n",
       "  <thead>\n",
       "    <tr style=\"text-align: right;\">\n",
       "      <th></th>\n",
       "      <th>0</th>\n",
       "    </tr>\n",
       "  </thead>\n",
       "  <tbody>\n",
       "    <tr>\n",
       "      <th>0</th>\n",
       "      <td>calculatedfinishedsquarefeet</td>\n",
       "    </tr>\n",
       "    <tr>\n",
       "      <th>1</th>\n",
       "      <td>taxvaluedollarcnt</td>\n",
       "    </tr>\n",
       "    <tr>\n",
       "      <th>2</th>\n",
       "      <td>yearbuilt</td>\n",
       "    </tr>\n",
       "    <tr>\n",
       "      <th>3</th>\n",
       "      <td>taxamount</td>\n",
       "    </tr>\n",
       "  </tbody>\n",
       "</table>\n",
       "</div>"
      ],
      "text/plain": [
       "                              0\n",
       "0  calculatedfinishedsquarefeet\n",
       "1             taxvaluedollarcnt\n",
       "2                     yearbuilt\n",
       "3                     taxamount"
      ]
     },
     "execution_count": 116,
     "metadata": {},
     "output_type": "execute_result"
    }
   ],
   "source": [
    "#see which columns have nulls\n",
    "pd.DataFrame(zillow_df.columns[zillow_df.isnull().any()])"
   ]
  },
  {
   "cell_type": "code",
   "execution_count": 117,
   "metadata": {},
   "outputs": [
    {
     "name": "stdout",
     "output_type": "stream",
     "text": [
      "Your selected dataframe has 7 columns.\n",
      "There are 4 columns that have missing values.\n",
      "  \n",
      "** There are 33 duplicate rows that represents 0.12% of total Values**\n"
     ]
    },
    {
     "data": {
      "text/html": [
       "<div>\n",
       "<style scoped>\n",
       "    .dataframe tbody tr th:only-of-type {\n",
       "        vertical-align: middle;\n",
       "    }\n",
       "\n",
       "    .dataframe tbody tr th {\n",
       "        vertical-align: top;\n",
       "    }\n",
       "\n",
       "    .dataframe thead th {\n",
       "        text-align: right;\n",
       "    }\n",
       "</style>\n",
       "<table border=\"1\" class=\"dataframe\">\n",
       "  <thead>\n",
       "    <tr style=\"text-align: right;\">\n",
       "      <th></th>\n",
       "      <th>Missing Values</th>\n",
       "      <th>% of Total Values</th>\n",
       "    </tr>\n",
       "  </thead>\n",
       "  <tbody>\n",
       "    <tr>\n",
       "      <th>yearbuilt</th>\n",
       "      <td>96</td>\n",
       "      <td>0.3</td>\n",
       "    </tr>\n",
       "    <tr>\n",
       "      <th>calculatedfinishedsquarefeet</th>\n",
       "      <td>73</td>\n",
       "      <td>0.3</td>\n",
       "    </tr>\n",
       "    <tr>\n",
       "      <th>taxvaluedollarcnt</th>\n",
       "      <td>1</td>\n",
       "      <td>0.0</td>\n",
       "    </tr>\n",
       "    <tr>\n",
       "      <th>taxamount</th>\n",
       "      <td>1</td>\n",
       "      <td>0.0</td>\n",
       "    </tr>\n",
       "  </tbody>\n",
       "</table>\n",
       "</div>"
      ],
      "text/plain": [
       "                              Missing Values  % of Total Values\n",
       "yearbuilt                                 96                0.3\n",
       "calculatedfinishedsquarefeet              73                0.3\n",
       "taxvaluedollarcnt                          1                0.0\n",
       "taxamount                                  1                0.0"
      ]
     },
     "execution_count": 117,
     "metadata": {},
     "output_type": "execute_result"
    }
   ],
   "source": [
    "# running fucntion which tells number of columns and see which columns have missing values.\n",
    "explore.miss_dup_values(zillow_df)"
   ]
  },
  {
   "cell_type": "code",
   "execution_count": 118,
   "metadata": {},
   "outputs": [
    {
     "data": {
      "text/plain": [
       "(28418, 7)"
      ]
     },
     "execution_count": 118,
     "metadata": {},
     "output_type": "execute_result"
    }
   ],
   "source": [
    "zillow_df.shape"
   ]
  },
  {
   "cell_type": "code",
   "execution_count": 119,
   "metadata": {},
   "outputs": [],
   "source": [
    "# so inputting nans into any empty values and for values which only white space.\n",
    "zillow_df.replace(' ', np.nan, inplace = True)\n",
    "zillow_df.replace(r'^\\s*$', np.nan, regex=True, inplace = True)"
   ]
  },
  {
   "cell_type": "code",
   "execution_count": 120,
   "metadata": {},
   "outputs": [],
   "source": [
    "#function to look create df which shows records containing nulls\n",
    "def view_null_records(df, variable):\n",
    "    \"\"\"\n",
    "    function allows you to records which contain null, nan values.\n",
    "    REMEMBER, will only work for individual column and if that columns has nulls, \n",
    "    otherwise will return empty dataframe\n",
    "    \"\"\"\n",
    "    df[df[variable].isna()]\n",
    "    \n",
    "    return df[df[variable].isna()]\n"
   ]
  },
  {
   "cell_type": "code",
   "execution_count": 121,
   "metadata": {},
   "outputs": [
    {
     "data": {
      "text/html": [
       "<div>\n",
       "<style scoped>\n",
       "    .dataframe tbody tr th:only-of-type {\n",
       "        vertical-align: middle;\n",
       "    }\n",
       "\n",
       "    .dataframe tbody tr th {\n",
       "        vertical-align: top;\n",
       "    }\n",
       "\n",
       "    .dataframe thead th {\n",
       "        text-align: right;\n",
       "    }\n",
       "</style>\n",
       "<table border=\"1\" class=\"dataframe\">\n",
       "  <thead>\n",
       "    <tr style=\"text-align: right;\">\n",
       "      <th></th>\n",
       "      <th>bedroomcnt</th>\n",
       "      <th>bathroomcnt</th>\n",
       "      <th>calculatedfinishedsquarefeet</th>\n",
       "      <th>taxvaluedollarcnt</th>\n",
       "      <th>yearbuilt</th>\n",
       "      <th>taxamount</th>\n",
       "      <th>fips</th>\n",
       "    </tr>\n",
       "    <tr>\n",
       "      <th>parcelid</th>\n",
       "      <th></th>\n",
       "      <th></th>\n",
       "      <th></th>\n",
       "      <th></th>\n",
       "      <th></th>\n",
       "      <th></th>\n",
       "      <th></th>\n",
       "    </tr>\n",
       "  </thead>\n",
       "  <tbody>\n",
       "  </tbody>\n",
       "</table>\n",
       "</div>"
      ],
      "text/plain": [
       "Empty DataFrame\n",
       "Columns: [bedroomcnt, bathroomcnt, calculatedfinishedsquarefeet, taxvaluedollarcnt, yearbuilt, taxamount, fips]\n",
       "Index: []"
      ]
     },
     "execution_count": 121,
     "metadata": {},
     "output_type": "execute_result"
    }
   ],
   "source": [
    "#no nulls in bed\n",
    "view_null_records(zillow_df, 'bedroomcnt')"
   ]
  },
  {
   "cell_type": "code",
   "execution_count": 122,
   "metadata": {},
   "outputs": [
    {
     "data": {
      "text/html": [
       "<div>\n",
       "<style scoped>\n",
       "    .dataframe tbody tr th:only-of-type {\n",
       "        vertical-align: middle;\n",
       "    }\n",
       "\n",
       "    .dataframe tbody tr th {\n",
       "        vertical-align: top;\n",
       "    }\n",
       "\n",
       "    .dataframe thead th {\n",
       "        text-align: right;\n",
       "    }\n",
       "</style>\n",
       "<table border=\"1\" class=\"dataframe\">\n",
       "  <thead>\n",
       "    <tr style=\"text-align: right;\">\n",
       "      <th>parcelid</th>\n",
       "      <th>14430658</th>\n",
       "      <th>11999890</th>\n",
       "      <th>14466991</th>\n",
       "      <th>13972530</th>\n",
       "      <th>14325627</th>\n",
       "      <th>12686981</th>\n",
       "      <th>10746614</th>\n",
       "      <th>14175690</th>\n",
       "      <th>12131538</th>\n",
       "      <th>17292027</th>\n",
       "      <th>...</th>\n",
       "      <th>12880051</th>\n",
       "      <th>11858171</th>\n",
       "      <th>14261521</th>\n",
       "      <th>14316896</th>\n",
       "      <th>17175822</th>\n",
       "      <th>11669289</th>\n",
       "      <th>17175845</th>\n",
       "      <th>10907819</th>\n",
       "      <th>14434158</th>\n",
       "      <th>14341510</th>\n",
       "    </tr>\n",
       "  </thead>\n",
       "  <tbody>\n",
       "    <tr>\n",
       "      <th>bedroomcnt</th>\n",
       "      <td>0.00</td>\n",
       "      <td>0.0</td>\n",
       "      <td>0.00</td>\n",
       "      <td>0.00</td>\n",
       "      <td>0.00</td>\n",
       "      <td>0.00</td>\n",
       "      <td>0.00</td>\n",
       "      <td>0.00</td>\n",
       "      <td>0.00</td>\n",
       "      <td>0.00</td>\n",
       "      <td>...</td>\n",
       "      <td>0.00</td>\n",
       "      <td>0.0</td>\n",
       "      <td>1.00</td>\n",
       "      <td>1.00</td>\n",
       "      <td>0.0</td>\n",
       "      <td>0.00</td>\n",
       "      <td>0.00</td>\n",
       "      <td>0.00</td>\n",
       "      <td>0.00</td>\n",
       "      <td>0.00</td>\n",
       "    </tr>\n",
       "    <tr>\n",
       "      <th>bathroomcnt</th>\n",
       "      <td>0.00</td>\n",
       "      <td>0.0</td>\n",
       "      <td>0.00</td>\n",
       "      <td>0.00</td>\n",
       "      <td>0.00</td>\n",
       "      <td>0.00</td>\n",
       "      <td>0.00</td>\n",
       "      <td>0.00</td>\n",
       "      <td>0.00</td>\n",
       "      <td>0.00</td>\n",
       "      <td>...</td>\n",
       "      <td>0.00</td>\n",
       "      <td>0.0</td>\n",
       "      <td>1.00</td>\n",
       "      <td>1.00</td>\n",
       "      <td>0.0</td>\n",
       "      <td>0.00</td>\n",
       "      <td>0.00</td>\n",
       "      <td>0.00</td>\n",
       "      <td>0.00</td>\n",
       "      <td>0.00</td>\n",
       "    </tr>\n",
       "    <tr>\n",
       "      <th>calculatedfinishedsquarefeet</th>\n",
       "      <td>NaN</td>\n",
       "      <td>NaN</td>\n",
       "      <td>NaN</td>\n",
       "      <td>NaN</td>\n",
       "      <td>NaN</td>\n",
       "      <td>NaN</td>\n",
       "      <td>NaN</td>\n",
       "      <td>NaN</td>\n",
       "      <td>NaN</td>\n",
       "      <td>NaN</td>\n",
       "      <td>...</td>\n",
       "      <td>NaN</td>\n",
       "      <td>NaN</td>\n",
       "      <td>NaN</td>\n",
       "      <td>NaN</td>\n",
       "      <td>NaN</td>\n",
       "      <td>NaN</td>\n",
       "      <td>NaN</td>\n",
       "      <td>NaN</td>\n",
       "      <td>NaN</td>\n",
       "      <td>NaN</td>\n",
       "    </tr>\n",
       "    <tr>\n",
       "      <th>taxvaluedollarcnt</th>\n",
       "      <td>5346951.00</td>\n",
       "      <td>2578702.0</td>\n",
       "      <td>2493444.00</td>\n",
       "      <td>270009.00</td>\n",
       "      <td>7074075.00</td>\n",
       "      <td>5461875.00</td>\n",
       "      <td>230876.00</td>\n",
       "      <td>157074.00</td>\n",
       "      <td>225126.00</td>\n",
       "      <td>3210155.00</td>\n",
       "      <td>...</td>\n",
       "      <td>639000.00</td>\n",
       "      <td>495636.0</td>\n",
       "      <td>131534.00</td>\n",
       "      <td>165899.00</td>\n",
       "      <td>67315.0</td>\n",
       "      <td>3489309.00</td>\n",
       "      <td>70735.00</td>\n",
       "      <td>1403650.00</td>\n",
       "      <td>3248800.00</td>\n",
       "      <td>327761.00</td>\n",
       "    </tr>\n",
       "    <tr>\n",
       "      <th>yearbuilt</th>\n",
       "      <td>NaN</td>\n",
       "      <td>NaN</td>\n",
       "      <td>NaN</td>\n",
       "      <td>NaN</td>\n",
       "      <td>NaN</td>\n",
       "      <td>NaN</td>\n",
       "      <td>NaN</td>\n",
       "      <td>NaN</td>\n",
       "      <td>NaN</td>\n",
       "      <td>NaN</td>\n",
       "      <td>...</td>\n",
       "      <td>NaN</td>\n",
       "      <td>NaN</td>\n",
       "      <td>NaN</td>\n",
       "      <td>NaN</td>\n",
       "      <td>NaN</td>\n",
       "      <td>NaN</td>\n",
       "      <td>NaN</td>\n",
       "      <td>NaN</td>\n",
       "      <td>NaN</td>\n",
       "      <td>NaN</td>\n",
       "    </tr>\n",
       "    <tr>\n",
       "      <th>taxamount</th>\n",
       "      <td>82484.04</td>\n",
       "      <td>30456.4</td>\n",
       "      <td>25740.28</td>\n",
       "      <td>3230.88</td>\n",
       "      <td>81640.56</td>\n",
       "      <td>60905.26</td>\n",
       "      <td>2842.21</td>\n",
       "      <td>2053.88</td>\n",
       "      <td>2736.14</td>\n",
       "      <td>34159.22</td>\n",
       "      <td>...</td>\n",
       "      <td>7733.27</td>\n",
       "      <td>6218.5</td>\n",
       "      <td>1943.18</td>\n",
       "      <td>2219.24</td>\n",
       "      <td>732.8</td>\n",
       "      <td>41644.78</td>\n",
       "      <td>771.96</td>\n",
       "      <td>16942.39</td>\n",
       "      <td>34649.96</td>\n",
       "      <td>7805.24</td>\n",
       "    </tr>\n",
       "    <tr>\n",
       "      <th>fips</th>\n",
       "      <td>6059.00</td>\n",
       "      <td>6037.0</td>\n",
       "      <td>6059.00</td>\n",
       "      <td>6059.00</td>\n",
       "      <td>6059.00</td>\n",
       "      <td>6037.00</td>\n",
       "      <td>6037.00</td>\n",
       "      <td>6059.00</td>\n",
       "      <td>6037.00</td>\n",
       "      <td>6111.00</td>\n",
       "      <td>...</td>\n",
       "      <td>6037.00</td>\n",
       "      <td>6037.0</td>\n",
       "      <td>6059.00</td>\n",
       "      <td>6059.00</td>\n",
       "      <td>6111.0</td>\n",
       "      <td>6037.00</td>\n",
       "      <td>6111.00</td>\n",
       "      <td>6037.00</td>\n",
       "      <td>6059.00</td>\n",
       "      <td>6059.00</td>\n",
       "    </tr>\n",
       "  </tbody>\n",
       "</table>\n",
       "<p>7 rows × 73 columns</p>\n",
       "</div>"
      ],
      "text/plain": [
       "parcelid                        14430658   11999890    14466991   13972530  \\\n",
       "bedroomcnt                          0.00        0.0        0.00       0.00   \n",
       "bathroomcnt                         0.00        0.0        0.00       0.00   \n",
       "calculatedfinishedsquarefeet         NaN        NaN         NaN        NaN   \n",
       "taxvaluedollarcnt             5346951.00  2578702.0  2493444.00  270009.00   \n",
       "yearbuilt                            NaN        NaN         NaN        NaN   \n",
       "taxamount                       82484.04    30456.4    25740.28    3230.88   \n",
       "fips                             6059.00     6037.0     6059.00    6059.00   \n",
       "\n",
       "parcelid                        14325627    12686981   10746614   14175690  \\\n",
       "bedroomcnt                          0.00        0.00       0.00       0.00   \n",
       "bathroomcnt                         0.00        0.00       0.00       0.00   \n",
       "calculatedfinishedsquarefeet         NaN         NaN        NaN        NaN   \n",
       "taxvaluedollarcnt             7074075.00  5461875.00  230876.00  157074.00   \n",
       "yearbuilt                            NaN         NaN        NaN        NaN   \n",
       "taxamount                       81640.56    60905.26    2842.21    2053.88   \n",
       "fips                             6059.00     6037.00    6037.00    6059.00   \n",
       "\n",
       "parcelid                       12131538    17292027  ...   12880051  11858171  \\\n",
       "bedroomcnt                         0.00        0.00  ...       0.00       0.0   \n",
       "bathroomcnt                        0.00        0.00  ...       0.00       0.0   \n",
       "calculatedfinishedsquarefeet        NaN         NaN  ...        NaN       NaN   \n",
       "taxvaluedollarcnt             225126.00  3210155.00  ...  639000.00  495636.0   \n",
       "yearbuilt                           NaN         NaN  ...        NaN       NaN   \n",
       "taxamount                       2736.14    34159.22  ...    7733.27    6218.5   \n",
       "fips                            6037.00     6111.00  ...    6037.00    6037.0   \n",
       "\n",
       "parcelid                       14261521   14316896  17175822    11669289  \\\n",
       "bedroomcnt                         1.00       1.00       0.0        0.00   \n",
       "bathroomcnt                        1.00       1.00       0.0        0.00   \n",
       "calculatedfinishedsquarefeet        NaN        NaN       NaN         NaN   \n",
       "taxvaluedollarcnt             131534.00  165899.00   67315.0  3489309.00   \n",
       "yearbuilt                           NaN        NaN       NaN         NaN   \n",
       "taxamount                       1943.18    2219.24     732.8    41644.78   \n",
       "fips                            6059.00    6059.00    6111.0     6037.00   \n",
       "\n",
       "parcelid                      17175845    10907819    14434158   14341510  \n",
       "bedroomcnt                        0.00        0.00        0.00       0.00  \n",
       "bathroomcnt                       0.00        0.00        0.00       0.00  \n",
       "calculatedfinishedsquarefeet       NaN         NaN         NaN        NaN  \n",
       "taxvaluedollarcnt             70735.00  1403650.00  3248800.00  327761.00  \n",
       "yearbuilt                          NaN         NaN         NaN        NaN  \n",
       "taxamount                       771.96    16942.39    34649.96    7805.24  \n",
       "fips                           6111.00     6037.00     6059.00    6059.00  \n",
       "\n",
       "[7 rows x 73 columns]"
      ]
     },
     "execution_count": 122,
     "metadata": {},
     "output_type": "execute_result"
    }
   ],
   "source": [
    "view_null_records(zillow_df, 'calculatedfinishedsquarefeet').T"
   ]
  },
  {
   "cell_type": "code",
   "execution_count": 123,
   "metadata": {},
   "outputs": [
    {
     "data": {
      "text/html": [
       "<div>\n",
       "<style scoped>\n",
       "    .dataframe tbody tr th:only-of-type {\n",
       "        vertical-align: middle;\n",
       "    }\n",
       "\n",
       "    .dataframe tbody tr th {\n",
       "        vertical-align: top;\n",
       "    }\n",
       "\n",
       "    .dataframe thead th {\n",
       "        text-align: right;\n",
       "    }\n",
       "</style>\n",
       "<table border=\"1\" class=\"dataframe\">\n",
       "  <thead>\n",
       "    <tr style=\"text-align: right;\">\n",
       "      <th></th>\n",
       "      <th>bedroomcnt</th>\n",
       "      <th>bathroomcnt</th>\n",
       "      <th>calculatedfinishedsquarefeet</th>\n",
       "      <th>taxvaluedollarcnt</th>\n",
       "      <th>yearbuilt</th>\n",
       "      <th>taxamount</th>\n",
       "      <th>fips</th>\n",
       "    </tr>\n",
       "    <tr>\n",
       "      <th>parcelid</th>\n",
       "      <th></th>\n",
       "      <th></th>\n",
       "      <th></th>\n",
       "      <th></th>\n",
       "      <th></th>\n",
       "      <th></th>\n",
       "      <th></th>\n",
       "    </tr>\n",
       "  </thead>\n",
       "  <tbody>\n",
       "    <tr>\n",
       "      <th>14006983</th>\n",
       "      <td>4.0</td>\n",
       "      <td>2.0</td>\n",
       "      <td>1197.0</td>\n",
       "      <td>NaN</td>\n",
       "      <td>1954.0</td>\n",
       "      <td>388.18</td>\n",
       "      <td>6059.0</td>\n",
       "    </tr>\n",
       "  </tbody>\n",
       "</table>\n",
       "</div>"
      ],
      "text/plain": [
       "          bedroomcnt  bathroomcnt  calculatedfinishedsquarefeet  \\\n",
       "parcelid                                                          \n",
       "14006983         4.0          2.0                        1197.0   \n",
       "\n",
       "          taxvaluedollarcnt  yearbuilt  taxamount    fips  \n",
       "parcelid                                                   \n",
       "14006983                NaN     1954.0     388.18  6059.0  "
      ]
     },
     "execution_count": 123,
     "metadata": {},
     "output_type": "execute_result"
    }
   ],
   "source": [
    "view_null_records(zillow_df, 'taxvaluedollarcnt')"
   ]
  },
  {
   "cell_type": "code",
   "execution_count": 124,
   "metadata": {},
   "outputs": [
    {
     "data": {
      "text/html": [
       "<div>\n",
       "<style scoped>\n",
       "    .dataframe tbody tr th:only-of-type {\n",
       "        vertical-align: middle;\n",
       "    }\n",
       "\n",
       "    .dataframe tbody tr th {\n",
       "        vertical-align: top;\n",
       "    }\n",
       "\n",
       "    .dataframe thead th {\n",
       "        text-align: right;\n",
       "    }\n",
       "</style>\n",
       "<table border=\"1\" class=\"dataframe\">\n",
       "  <thead>\n",
       "    <tr style=\"text-align: right;\">\n",
       "      <th></th>\n",
       "      <th>bedroomcnt</th>\n",
       "      <th>bathroomcnt</th>\n",
       "      <th>calculatedfinishedsquarefeet</th>\n",
       "      <th>taxvaluedollarcnt</th>\n",
       "      <th>yearbuilt</th>\n",
       "      <th>taxamount</th>\n",
       "      <th>fips</th>\n",
       "    </tr>\n",
       "    <tr>\n",
       "      <th>parcelid</th>\n",
       "      <th></th>\n",
       "      <th></th>\n",
       "      <th></th>\n",
       "      <th></th>\n",
       "      <th></th>\n",
       "      <th></th>\n",
       "      <th></th>\n",
       "    </tr>\n",
       "  </thead>\n",
       "  <tbody>\n",
       "  </tbody>\n",
       "</table>\n",
       "</div>"
      ],
      "text/plain": [
       "Empty DataFrame\n",
       "Columns: [bedroomcnt, bathroomcnt, calculatedfinishedsquarefeet, taxvaluedollarcnt, yearbuilt, taxamount, fips]\n",
       "Index: []"
      ]
     },
     "execution_count": 124,
     "metadata": {},
     "output_type": "execute_result"
    }
   ],
   "source": [
    "view_null_records(zillow_df, 'bathroomcnt')"
   ]
  },
  {
   "cell_type": "markdown",
   "metadata": {},
   "source": [
    "#### Will create new df from original which will only have 4 features need for mvp, this has nan values."
   ]
  },
  {
   "cell_type": "code",
   "execution_count": 125,
   "metadata": {},
   "outputs": [
    {
     "data": {
      "text/html": [
       "<div>\n",
       "<style scoped>\n",
       "    .dataframe tbody tr th:only-of-type {\n",
       "        vertical-align: middle;\n",
       "    }\n",
       "\n",
       "    .dataframe tbody tr th {\n",
       "        vertical-align: top;\n",
       "    }\n",
       "\n",
       "    .dataframe thead th {\n",
       "        text-align: right;\n",
       "    }\n",
       "</style>\n",
       "<table border=\"1\" class=\"dataframe\">\n",
       "  <thead>\n",
       "    <tr style=\"text-align: right;\">\n",
       "      <th></th>\n",
       "      <th>bedroomcnt</th>\n",
       "      <th>bathroomcnt</th>\n",
       "      <th>total_squareft</th>\n",
       "      <th>assessment_value</th>\n",
       "    </tr>\n",
       "    <tr>\n",
       "      <th>parcelid</th>\n",
       "      <th></th>\n",
       "      <th></th>\n",
       "      <th></th>\n",
       "      <th></th>\n",
       "    </tr>\n",
       "  </thead>\n",
       "  <tbody>\n",
       "    <tr>\n",
       "      <th>11721753</th>\n",
       "      <td>3.0</td>\n",
       "      <td>2.0</td>\n",
       "      <td>1316.0</td>\n",
       "      <td>205123.0</td>\n",
       "    </tr>\n",
       "    <tr>\n",
       "      <th>11289917</th>\n",
       "      <td>3.0</td>\n",
       "      <td>2.0</td>\n",
       "      <td>1458.0</td>\n",
       "      <td>136104.0</td>\n",
       "    </tr>\n",
       "    <tr>\n",
       "      <th>11705026</th>\n",
       "      <td>2.0</td>\n",
       "      <td>1.0</td>\n",
       "      <td>1421.0</td>\n",
       "      <td>35606.0</td>\n",
       "    </tr>\n",
       "    <tr>\n",
       "      <th>14269464</th>\n",
       "      <td>4.0</td>\n",
       "      <td>3.0</td>\n",
       "      <td>2541.0</td>\n",
       "      <td>880456.0</td>\n",
       "    </tr>\n",
       "    <tr>\n",
       "      <th>11446756</th>\n",
       "      <td>3.0</td>\n",
       "      <td>2.0</td>\n",
       "      <td>1491.0</td>\n",
       "      <td>107110.0</td>\n",
       "    </tr>\n",
       "  </tbody>\n",
       "</table>\n",
       "</div>"
      ],
      "text/plain": [
       "          bedroomcnt  bathroomcnt  total_squareft  assessment_value\n",
       "parcelid                                                           \n",
       "11721753         3.0          2.0          1316.0          205123.0\n",
       "11289917         3.0          2.0          1458.0          136104.0\n",
       "11705026         2.0          1.0          1421.0           35606.0\n",
       "14269464         4.0          3.0          2541.0          880456.0\n",
       "11446756         3.0          2.0          1491.0          107110.0"
      ]
     },
     "execution_count": 125,
     "metadata": {},
     "output_type": "execute_result"
    }
   ],
   "source": [
    "#just going to utilize 4 features for MVP as stated in curriculum. Created new df which conatins the four features.\n",
    "# created \n",
    "zillow = zillow_df[['bedroomcnt', 'bathroomcnt', 'calculatedfinishedsquarefeet','taxvaluedollarcnt']]\n",
    "zillow.rename(columns = {'calculatedfinishedsquarefeet':'total_squareft','taxvaluedollarcnt': 'assessment_value'},  inplace = True)\n",
    "zillow.head()"
   ]
  },
  {
   "cell_type": "code",
   "execution_count": null,
   "metadata": {},
   "outputs": [],
   "source": []
  },
  {
   "cell_type": "code",
   "execution_count": 126,
   "metadata": {},
   "outputs": [],
   "source": [
    "#dropping duplicate values\n",
    "zillow.drop_duplicates(inplace = True)\n",
    "# so after reviewing the two columns taxvalue and sqrft, i feel comfortable dropping the NaN values\n",
    "zillow.dropna(inplace = True)"
   ]
  },
  {
   "cell_type": "code",
   "execution_count": 127,
   "metadata": {},
   "outputs": [
    {
     "data": {
      "text/plain": [
       "2.0     11841\n",
       "3.0      5806\n",
       "1.0      4905\n",
       "2.5      2237\n",
       "4.0      1198\n",
       "3.5       543\n",
       "1.5       473\n",
       "5.0       443\n",
       "4.5       384\n",
       "6.0       176\n",
       "5.5       111\n",
       "7.0        52\n",
       "0.0        41\n",
       "8.0        29\n",
       "6.5        27\n",
       "7.5         9\n",
       "9.0         5\n",
       "11.0        2\n",
       "10.0        1\n",
       "8.5         1\n",
       "Name: bathroomcnt, dtype: int64"
      ]
     },
     "execution_count": 127,
     "metadata": {},
     "output_type": "execute_result"
    }
   ],
   "source": [
    "zillow.bathroomcnt.value_counts()"
   ]
  },
  {
   "cell_type": "code",
   "execution_count": 128,
   "metadata": {},
   "outputs": [
    {
     "name": "stdout",
     "output_type": "stream",
     "text": [
      "<class 'pandas.core.frame.DataFrame'>\n",
      "Int64Index: 28284 entries, 11721753 to 10713993\n",
      "Data columns (total 4 columns):\n",
      " #   Column            Non-Null Count  Dtype  \n",
      "---  ------            --------------  -----  \n",
      " 0   bedroomcnt        28284 non-null  float64\n",
      " 1   bathroomcnt       28284 non-null  float64\n",
      " 2   total_squareft    28284 non-null  float64\n",
      " 3   assessment_value  28284 non-null  float64\n",
      "dtypes: float64(4)\n",
      "memory usage: 1.1 MB\n"
     ]
    }
   ],
   "source": [
    "#need to change bed, bath count, sqrt feat to int, round tax value to 2 decimal places.\n",
    "zillow.info()"
   ]
  },
  {
   "cell_type": "code",
   "execution_count": 129,
   "metadata": {
    "jupyter": {
     "source_hidden": true
    }
   },
   "outputs": [],
   "source": [
    "#changing the data types to integers, after looking at footage and dollar value, I felt comfortable to changes these to integers\n",
    "# losing cents and inches shouldnt cause an issue.\n",
    "zillow = zillow.astype({'total_squareft':'int',  'assessment_value': 'int','bedroomcnt':'object', 'bathroomcnt':'object'})\n"
   ]
  },
  {
   "cell_type": "code",
   "execution_count": 130,
   "metadata": {},
   "outputs": [
    {
     "data": {
      "text/html": [
       "<div>\n",
       "<style scoped>\n",
       "    .dataframe tbody tr th:only-of-type {\n",
       "        vertical-align: middle;\n",
       "    }\n",
       "\n",
       "    .dataframe tbody tr th {\n",
       "        vertical-align: top;\n",
       "    }\n",
       "\n",
       "    .dataframe thead th {\n",
       "        text-align: right;\n",
       "    }\n",
       "</style>\n",
       "<table border=\"1\" class=\"dataframe\">\n",
       "  <thead>\n",
       "    <tr style=\"text-align: right;\">\n",
       "      <th></th>\n",
       "      <th>total_squareft</th>\n",
       "      <th>assessment_value</th>\n",
       "    </tr>\n",
       "  </thead>\n",
       "  <tbody>\n",
       "    <tr>\n",
       "      <th>count</th>\n",
       "      <td>28284.000000</td>\n",
       "      <td>2.828400e+04</td>\n",
       "    </tr>\n",
       "    <tr>\n",
       "      <th>mean</th>\n",
       "      <td>1931.686607</td>\n",
       "      <td>5.313416e+05</td>\n",
       "    </tr>\n",
       "    <tr>\n",
       "      <th>std</th>\n",
       "      <td>1012.258217</td>\n",
       "      <td>7.017943e+05</td>\n",
       "    </tr>\n",
       "    <tr>\n",
       "      <th>min</th>\n",
       "      <td>240.000000</td>\n",
       "      <td>1.000000e+03</td>\n",
       "    </tr>\n",
       "    <tr>\n",
       "      <th>25%</th>\n",
       "      <td>1277.000000</td>\n",
       "      <td>1.982940e+05</td>\n",
       "    </tr>\n",
       "    <tr>\n",
       "      <th>50%</th>\n",
       "      <td>1669.000000</td>\n",
       "      <td>3.807180e+05</td>\n",
       "    </tr>\n",
       "    <tr>\n",
       "      <th>75%</th>\n",
       "      <td>2319.000000</td>\n",
       "      <td>6.293925e+05</td>\n",
       "    </tr>\n",
       "    <tr>\n",
       "      <th>max</th>\n",
       "      <td>35640.000000</td>\n",
       "      <td>2.385837e+07</td>\n",
       "    </tr>\n",
       "  </tbody>\n",
       "</table>\n",
       "</div>"
      ],
      "text/plain": [
       "       total_squareft  assessment_value\n",
       "count    28284.000000      2.828400e+04\n",
       "mean      1931.686607      5.313416e+05\n",
       "std       1012.258217      7.017943e+05\n",
       "min        240.000000      1.000000e+03\n",
       "25%       1277.000000      1.982940e+05\n",
       "50%       1669.000000      3.807180e+05\n",
       "75%       2319.000000      6.293925e+05\n",
       "max      35640.000000      2.385837e+07"
      ]
     },
     "execution_count": 130,
     "metadata": {},
     "output_type": "execute_result"
    }
   ],
   "source": [
    "zillow.describe()"
   ]
  },
  {
   "cell_type": "code",
   "execution_count": 131,
   "metadata": {},
   "outputs": [],
   "source": [
    "# need to deal with outliers\n",
    "#can calculate interquartile range.\n",
    "#then exclude those outside those values."
   ]
  },
  {
   "cell_type": "code",
   "execution_count": 132,
   "metadata": {},
   "outputs": [],
   "source": [
    "def outlier_bound_calculation(df, variable):\n",
    "    '''\n",
    "    calcualtes the lower and upper bound to locate outliers in variables\n",
    "    '''\n",
    "    quartile1, quartile3 = np.percentile(df[variable], [25,75])\n",
    "    IQR_value = quartile3 - quartile1\n",
    "    lower_bound = quartile1 - (1.5 * IQR_value)\n",
    "    upper_bound = quartile3 + (1.5 * IQR_value)\n",
    "    '''\n",
    "    returns the lowerbound and upperbound values\n",
    "    '''\n",
    "    return print(f'For {variable} the lower bound is {lower_bound} and  upper bound is {upper_bound}')    "
   ]
  },
  {
   "cell_type": "code",
   "execution_count": 133,
   "metadata": {},
   "outputs": [
    {
     "name": "stdout",
     "output_type": "stream",
     "text": [
      "For bedroomcnt the lower bound is 1.5 and  upper bound is 5.5\n"
     ]
    }
   ],
   "source": [
    "# looking into outliers\n",
    "outlier_bound_calculation(zillow, 'bedroomcnt')"
   ]
  },
  {
   "cell_type": "code",
   "execution_count": 134,
   "metadata": {},
   "outputs": [
    {
     "name": "stdout",
     "output_type": "stream",
     "text": [
      "For bathroomcnt the lower bound is 0.5 and  upper bound is 4.5\n"
     ]
    }
   ],
   "source": [
    "# looking into outliers\n",
    "outlier_bound_calculation(zillow, 'bathroomcnt')"
   ]
  },
  {
   "cell_type": "code",
   "execution_count": 135,
   "metadata": {},
   "outputs": [
    {
     "name": "stdout",
     "output_type": "stream",
     "text": [
      "For total_squareft the lower bound is -286.0 and  upper bound is 3882.0\n"
     ]
    }
   ],
   "source": [
    "# looking into outliers\n",
    "outlier_bound_calculation(zillow, 'total_squareft')"
   ]
  },
  {
   "cell_type": "code",
   "execution_count": 136,
   "metadata": {},
   "outputs": [
    {
     "name": "stdout",
     "output_type": "stream",
     "text": [
      "For assessment_value the lower bound is -448353.75 and  upper bound is 1276040.25\n"
     ]
    }
   ],
   "source": [
    "# looking into outliers\n",
    "outlier_bound_calculation(zillow, 'assessment_value')"
   ]
  },
  {
   "cell_type": "code",
   "execution_count": 137,
   "metadata": {},
   "outputs": [
    {
     "data": {
      "image/png": "[encoded data removed]",
      "text/plain": [
       "<Figure size 576x576 with 1 Axes>"
      ]
     },
     "metadata": {
      "needs_background": "light"
     },
     "output_type": "display_data"
    }
   ],
   "source": [
    "#vizualize the outliers\n",
    "plt.figure(figsize=(8,8))\n",
    "# Create boxplots for all but student_id.\n",
    "sns.boxplot(data=zillow.drop(columns=['assessment_value','total_squareft']),)\n",
    "plt.show()"
   ]
  },
  {
   "cell_type": "code",
   "execution_count": 138,
   "metadata": {},
   "outputs": [
    {
     "data": {
      "image/png": "[encoded data removed]",
      "text/plain": [
       "<Figure size 720x720 with 20 Axes>"
      ]
     },
     "metadata": {
      "needs_background": "light"
     },
     "output_type": "display_data"
    },
    {
     "data": {
      "image/png": "[encoded data removed]",
      "text/plain": [
       "<Figure size 360x360 with 1 Axes>"
      ]
     },
     "metadata": {
      "needs_background": "light"
     },
     "output_type": "display_data"
    },
    {
     "data": {
      "image/png": "[encoded data removed]",
      "text/plain": [
       "<Figure size 360x360 with 1 Axes>"
      ]
     },
     "metadata": {
      "needs_background": "light"
     },
     "output_type": "display_data"
    },
    {
     "data": {
      "image/png": "[encoded data removed]",
      "text/plain": [
       "<Figure size 432x432 with 3 Axes>"
      ]
     },
     "metadata": {
      "needs_background": "light"
     },
     "output_type": "display_data"
    }
   ],
   "source": [
    "explore.continuous_with_continuous(zillow,'assessment_value','total_squareft', hue = None, col = None )"
   ]
  },
  {
   "cell_type": "code",
   "execution_count": 139,
   "metadata": {},
   "outputs": [
    {
     "name": "stdout",
     "output_type": "stream",
     "text": [
      "<class 'pandas.core.frame.DataFrame'>\n",
      "Int64Index: 28284 entries, 11721753 to 10713993\n",
      "Data columns (total 4 columns):\n",
      " #   Column            Non-Null Count  Dtype \n",
      "---  ------            --------------  ----- \n",
      " 0   bedroomcnt        28284 non-null  object\n",
      " 1   bathroomcnt       28284 non-null  object\n",
      " 2   total_squareft    28284 non-null  int64 \n",
      " 3   assessment_value  28284 non-null  int64 \n",
      "dtypes: int64(2), object(2)\n",
      "memory usage: 1.1+ MB\n"
     ]
    }
   ],
   "source": [
    "zillow.info()"
   ]
  },
  {
   "cell_type": "code",
   "execution_count": 140,
   "metadata": {},
   "outputs": [
    {
     "name": "stdout",
     "output_type": "stream",
     "text": [
      "<class 'pandas.core.frame.DataFrame'>\n",
      "Int64Index: 25179 entries, 11721753 to 10713993\n",
      "Data columns (total 4 columns):\n",
      " #   Column            Non-Null Count  Dtype \n",
      "---  ------            --------------  ----- \n",
      " 0   bedroomcnt        25179 non-null  object\n",
      " 1   bathroomcnt       25179 non-null  object\n",
      " 2   total_squareft    25179 non-null  int64 \n",
      " 3   assessment_value  25179 non-null  int64 \n",
      "dtypes: int64(2), object(2)\n",
      "memory usage: 983.6+ KB\n"
     ]
    }
   ],
   "source": [
    "#dropping outliers\n",
    "zillow = zillow[(zillow['assessment_value'] < 1276040)& (zillow['assessment_value']>0)]\n",
    "zillow = zillow[(zillow['total_squareft'] < 3882) & (zillow['total_squareft']>0)]\n",
    "zillow = zillow[(zillow['bedroomcnt'] < 5.5) &  (zillow['bedroomcnt']>1.5)]\n",
    "zillow = zillow[(zillow['bathroomcnt'] < 4.5) & (zillow['bathroomcnt']>0.5)]\n",
    "zillow.info()"
   ]
  },
  {
   "cell_type": "code",
   "execution_count": 141,
   "metadata": {},
   "outputs": [
    {
     "data": {
      "text/html": [
       "<div>\n",
       "<style scoped>\n",
       "    .dataframe tbody tr th:only-of-type {\n",
       "        vertical-align: middle;\n",
       "    }\n",
       "\n",
       "    .dataframe tbody tr th {\n",
       "        vertical-align: top;\n",
       "    }\n",
       "\n",
       "    .dataframe thead th {\n",
       "        text-align: right;\n",
       "    }\n",
       "</style>\n",
       "<table border=\"1\" class=\"dataframe\">\n",
       "  <thead>\n",
       "    <tr style=\"text-align: right;\">\n",
       "      <th></th>\n",
       "      <th>bedroomcnt</th>\n",
       "      <th>bathroomcnt</th>\n",
       "      <th>total_squareft</th>\n",
       "      <th>assessment_value</th>\n",
       "    </tr>\n",
       "    <tr>\n",
       "      <th>parcelid</th>\n",
       "      <th></th>\n",
       "      <th></th>\n",
       "      <th></th>\n",
       "      <th></th>\n",
       "    </tr>\n",
       "  </thead>\n",
       "  <tbody>\n",
       "    <tr>\n",
       "      <th>11721753</th>\n",
       "      <td>3</td>\n",
       "      <td>2</td>\n",
       "      <td>1316</td>\n",
       "      <td>205123</td>\n",
       "    </tr>\n",
       "    <tr>\n",
       "      <th>11289917</th>\n",
       "      <td>3</td>\n",
       "      <td>2</td>\n",
       "      <td>1458</td>\n",
       "      <td>136104</td>\n",
       "    </tr>\n",
       "    <tr>\n",
       "      <th>11705026</th>\n",
       "      <td>2</td>\n",
       "      <td>1</td>\n",
       "      <td>1421</td>\n",
       "      <td>35606</td>\n",
       "    </tr>\n",
       "    <tr>\n",
       "      <th>14269464</th>\n",
       "      <td>4</td>\n",
       "      <td>3</td>\n",
       "      <td>2541</td>\n",
       "      <td>880456</td>\n",
       "    </tr>\n",
       "    <tr>\n",
       "      <th>11446756</th>\n",
       "      <td>3</td>\n",
       "      <td>2</td>\n",
       "      <td>1491</td>\n",
       "      <td>107110</td>\n",
       "    </tr>\n",
       "  </tbody>\n",
       "</table>\n",
       "</div>"
      ],
      "text/plain": [
       "         bedroomcnt bathroomcnt  total_squareft  assessment_value\n",
       "parcelid                                                         \n",
       "11721753          3           2            1316            205123\n",
       "11289917          3           2            1458            136104\n",
       "11705026          2           1            1421             35606\n",
       "14269464          4           3            2541            880456\n",
       "11446756          3           2            1491            107110"
      ]
     },
     "execution_count": 141,
     "metadata": {},
     "output_type": "execute_result"
    }
   ],
   "source": [
    "zillow.head()"
   ]
  },
  {
   "cell_type": "code",
   "execution_count": 142,
   "metadata": {},
   "outputs": [
    {
     "data": {
      "text/plain": [
       "(25179, 4)"
      ]
     },
     "execution_count": 142,
     "metadata": {},
     "output_type": "execute_result"
    }
   ],
   "source": [
    "#shape of df is now 25179 records, 4 fields\n",
    "zillow.shape"
   ]
  },
  {
   "cell_type": "code",
   "execution_count": 143,
   "metadata": {},
   "outputs": [],
   "source": [
    "#created additional columns to represent less than and greater than with 0 and 1 value\n",
    "zillow['three_or_less_bedrooms']  =  pd.cut(x=zillow['bedroomcnt'], bins=[2, 3], right = True, include_lowest = True, labels = [1]).astype('object').fillna(0).astype('int')\n",
    "zillow['four_or_more_bedrooms']  =  pd.cut(x=zillow['bedroomcnt'], bins=[4, 5], right = True, include_lowest = True, labels = [1]).astype('object').fillna(0).astype('int')\n",
    "zillow['three_or_more_bathrooms']  =  pd.cut(x=zillow['bedroomcnt'], bins=[3, 4], right = True, include_lowest = True, labels = [1]).astype('object').fillna(0).astype('int')\n",
    "zillow['two_half_or_less_bathrooms']  =  pd.cut(x=zillow['bedroomcnt'], bins=[1, 2.5], right = True, include_lowest = True, labels = [1]).astype('object').fillna(0).astype('int')\n",
    "zillow.drop(columns = ['bathroomcnt', 'bedroomcnt'], inplace = True)"
   ]
  },
  {
   "cell_type": "code",
   "execution_count": 144,
   "metadata": {},
   "outputs": [
    {
     "data": {
      "text/html": [
       "<div>\n",
       "<style scoped>\n",
       "    .dataframe tbody tr th:only-of-type {\n",
       "        vertical-align: middle;\n",
       "    }\n",
       "\n",
       "    .dataframe tbody tr th {\n",
       "        vertical-align: top;\n",
       "    }\n",
       "\n",
       "    .dataframe thead th {\n",
       "        text-align: right;\n",
       "    }\n",
       "</style>\n",
       "<table border=\"1\" class=\"dataframe\">\n",
       "  <thead>\n",
       "    <tr style=\"text-align: right;\">\n",
       "      <th></th>\n",
       "      <th>total_squareft</th>\n",
       "      <th>assessment_value</th>\n",
       "      <th>three_or_less_bedrooms</th>\n",
       "      <th>four_or_more_bedrooms</th>\n",
       "      <th>three_or_more_bathrooms</th>\n",
       "      <th>two_half_or_less_bathrooms</th>\n",
       "    </tr>\n",
       "    <tr>\n",
       "      <th>parcelid</th>\n",
       "      <th></th>\n",
       "      <th></th>\n",
       "      <th></th>\n",
       "      <th></th>\n",
       "      <th></th>\n",
       "      <th></th>\n",
       "    </tr>\n",
       "  </thead>\n",
       "  <tbody>\n",
       "    <tr>\n",
       "      <th>11721753</th>\n",
       "      <td>1316</td>\n",
       "      <td>205123</td>\n",
       "      <td>1</td>\n",
       "      <td>0</td>\n",
       "      <td>1</td>\n",
       "      <td>0</td>\n",
       "    </tr>\n",
       "    <tr>\n",
       "      <th>11289917</th>\n",
       "      <td>1458</td>\n",
       "      <td>136104</td>\n",
       "      <td>1</td>\n",
       "      <td>0</td>\n",
       "      <td>1</td>\n",
       "      <td>0</td>\n",
       "    </tr>\n",
       "    <tr>\n",
       "      <th>11705026</th>\n",
       "      <td>1421</td>\n",
       "      <td>35606</td>\n",
       "      <td>1</td>\n",
       "      <td>0</td>\n",
       "      <td>0</td>\n",
       "      <td>1</td>\n",
       "    </tr>\n",
       "    <tr>\n",
       "      <th>14269464</th>\n",
       "      <td>2541</td>\n",
       "      <td>880456</td>\n",
       "      <td>0</td>\n",
       "      <td>1</td>\n",
       "      <td>1</td>\n",
       "      <td>0</td>\n",
       "    </tr>\n",
       "    <tr>\n",
       "      <th>11446756</th>\n",
       "      <td>1491</td>\n",
       "      <td>107110</td>\n",
       "      <td>1</td>\n",
       "      <td>0</td>\n",
       "      <td>1</td>\n",
       "      <td>0</td>\n",
       "    </tr>\n",
       "  </tbody>\n",
       "</table>\n",
       "</div>"
      ],
      "text/plain": [
       "          total_squareft  assessment_value  three_or_less_bedrooms  \\\n",
       "parcelid                                                             \n",
       "11721753            1316            205123                       1   \n",
       "11289917            1458            136104                       1   \n",
       "11705026            1421             35606                       1   \n",
       "14269464            2541            880456                       0   \n",
       "11446756            1491            107110                       1   \n",
       "\n",
       "          four_or_more_bedrooms  three_or_more_bathrooms  \\\n",
       "parcelid                                                   \n",
       "11721753                      0                        1   \n",
       "11289917                      0                        1   \n",
       "11705026                      0                        0   \n",
       "14269464                      1                        1   \n",
       "11446756                      0                        1   \n",
       "\n",
       "          two_half_or_less_bathrooms  \n",
       "parcelid                              \n",
       "11721753                           0  \n",
       "11289917                           0  \n",
       "11705026                           1  \n",
       "14269464                           0  \n",
       "11446756                           0  "
      ]
     },
     "execution_count": 144,
     "metadata": {},
     "output_type": "execute_result"
    }
   ],
   "source": [
    "zillow.head()\n"
   ]
  },
  {
   "cell_type": "code",
   "execution_count": 190,
   "metadata": {},
   "outputs": [
    {
     "name": "stdout",
     "output_type": "stream",
     "text": [
      "<class 'pandas.core.frame.DataFrame'>\n",
      "Int64Index: 25179 entries, 11721753 to 10713993\n",
      "Data columns (total 6 columns):\n",
      " #   Column                      Non-Null Count  Dtype\n",
      "---  ------                      --------------  -----\n",
      " 0   total_squareft              25179 non-null  int64\n",
      " 1   assessment_value            25179 non-null  int64\n",
      " 2   three_or_less_bedrooms      25179 non-null  int64\n",
      " 3   four_or_more_bedrooms       25179 non-null  int64\n",
      " 4   three_or_more_bathrooms     25179 non-null  int64\n",
      " 5   two_half_or_less_bathrooms  25179 non-null  int64\n",
      "dtypes: int64(6)\n",
      "memory usage: 1.3 MB\n"
     ]
    }
   ],
   "source": [
    "zillow.info()"
   ]
  },
  {
   "cell_type": "code",
   "execution_count": 145,
   "metadata": {},
   "outputs": [
    {
     "name": "stdout",
     "output_type": "stream",
     "text": [
      "train -> (14100, 6)\n",
      "validate -> (6043, 6)\n",
      "test -> (5036, 6)\n"
     ]
    }
   ],
   "source": [
    "#splitting into a train, validate and test dataset.\n",
    "train, validate, test = wrangle.split_continuous(zillow)"
   ]
  },
  {
   "cell_type": "code",
   "execution_count": null,
   "metadata": {},
   "outputs": [],
   "source": []
  },
  {
   "cell_type": "markdown",
   "metadata": {},
   "source": [
    "### Main Takeaway:\n",
    "- Doing house cleaning: dropping duplciates, dropping nans, and set parcelid to index.\n",
    "- Calculated outliers for each field, dropped these outliers.\n",
    "- Made some simple charts to visualize outliers\n",
    "- split the zillow df into a train, validate, test datasets.\n",
    "- DF shape now 25179 records and 4 fields"
   ]
  },
  {
   "cell_type": "markdown",
   "metadata": {},
   "source": [
    "----------------------------------\n",
    "----------------------------------"
   ]
  },
  {
   "cell_type": "markdown",
   "metadata": {},
   "source": [
    "# Explore:"
   ]
  },
  {
   "cell_type": "markdown",
   "metadata": {},
   "source": [
    "#### Data Exploration\n",
    "\n",
    "##### Goal: I recommend following the exploration approach of univariate, bivariate, multivariate discussed in class. In that method, you can address each of the questions you posed in your planning and brainstorming and any others you have come up with along the way through visual exploration and statistical analysis. The findings from your analysis should provide you with answers to the specific questions your customer asked that will be used in your final report as well as information to move forward toward building a model.\n",
    "------------------------\n",
    "------------------------\n",
    "#### Since my target variable is continuous, assessment_value this is a regression problem.\n",
    "- important to remember that Multiple linear regression analysis makes several key assumptions:\n",
    "    - There must be a linear relationship between the outcome variable and the independent variables. Scatterplots can show whether there is a linear or curvilinear relationship.\n",
    "    - No Multicollinearity—Multiple regression assumes that the independent variables are not highly correlated with each other.\n",
    "    - Multivariate Normality–Multiple regression assumes that the residuals are normally distributed.\n",
    "----------------------------------------------\n",
    "\n",
    "- Think about the following in this stage:\n",
    "\n",
    "    -  Run at least 1 t-test and 1 correlation test (but as many as you need!)\n",
    "\n",
    "    -  Visualize all combinations of variables in some way(s).\n",
    "\n",
    "    - What independent variables are correlated with the dependent?\n",
    "\n",
    "    - Which independent variables are correlated with other independent variables?\n",
    "\n",
    "    - Make sure to summarize your takeaways and conclusions. That is, the Zillow data science team doesn't want to see just a bunch of dataframes, numbers, and charts without any explanation; you should explain in the notebook what these mean, interpret them.\n",
    "    \n",
    "    - Identitfy features that correlate with each other. If feature A and feature B are each tightly correlated with the target variable, but they're also tightly correlated with each other, we should use one feature that correlates better, rather than use both.\n",
    "    - Test Your Hypotheses: Analyze the drivers of a continuous target variable using the appropriate statistical tests (t-tests, correlation, and chi-squared hypothesis tests)."
   ]
  },
  {
   "cell_type": "code",
   "execution_count": 146,
   "metadata": {},
   "outputs": [
    {
     "data": {
      "text/html": [
       "<div>\n",
       "<style scoped>\n",
       "    .dataframe tbody tr th:only-of-type {\n",
       "        vertical-align: middle;\n",
       "    }\n",
       "\n",
       "    .dataframe tbody tr th {\n",
       "        vertical-align: top;\n",
       "    }\n",
       "\n",
       "    .dataframe thead th {\n",
       "        text-align: right;\n",
       "    }\n",
       "</style>\n",
       "<table border=\"1\" class=\"dataframe\">\n",
       "  <thead>\n",
       "    <tr style=\"text-align: right;\">\n",
       "      <th></th>\n",
       "      <th>total_squareft</th>\n",
       "      <th>assessment_value</th>\n",
       "      <th>three_or_less_bedrooms</th>\n",
       "      <th>four_or_more_bedrooms</th>\n",
       "      <th>three_or_more_bathrooms</th>\n",
       "      <th>two_half_or_less_bathrooms</th>\n",
       "    </tr>\n",
       "    <tr>\n",
       "      <th>parcelid</th>\n",
       "      <th></th>\n",
       "      <th></th>\n",
       "      <th></th>\n",
       "      <th></th>\n",
       "      <th></th>\n",
       "      <th></th>\n",
       "    </tr>\n",
       "  </thead>\n",
       "  <tbody>\n",
       "    <tr>\n",
       "      <th>11238456</th>\n",
       "      <td>1296</td>\n",
       "      <td>100794</td>\n",
       "      <td>1</td>\n",
       "      <td>0</td>\n",
       "      <td>1</td>\n",
       "      <td>0</td>\n",
       "    </tr>\n",
       "    <tr>\n",
       "      <th>17273265</th>\n",
       "      <td>1308</td>\n",
       "      <td>255407</td>\n",
       "      <td>1</td>\n",
       "      <td>0</td>\n",
       "      <td>1</td>\n",
       "      <td>0</td>\n",
       "    </tr>\n",
       "    <tr>\n",
       "      <th>12464860</th>\n",
       "      <td>2450</td>\n",
       "      <td>133952</td>\n",
       "      <td>0</td>\n",
       "      <td>1</td>\n",
       "      <td>0</td>\n",
       "      <td>0</td>\n",
       "    </tr>\n",
       "    <tr>\n",
       "      <th>11201234</th>\n",
       "      <td>1562</td>\n",
       "      <td>101012</td>\n",
       "      <td>1</td>\n",
       "      <td>0</td>\n",
       "      <td>1</td>\n",
       "      <td>0</td>\n",
       "    </tr>\n",
       "    <tr>\n",
       "      <th>17057703</th>\n",
       "      <td>1485</td>\n",
       "      <td>997112</td>\n",
       "      <td>1</td>\n",
       "      <td>0</td>\n",
       "      <td>0</td>\n",
       "      <td>1</td>\n",
       "    </tr>\n",
       "  </tbody>\n",
       "</table>\n",
       "</div>"
      ],
      "text/plain": [
       "          total_squareft  assessment_value  three_or_less_bedrooms  \\\n",
       "parcelid                                                             \n",
       "11238456            1296            100794                       1   \n",
       "17273265            1308            255407                       1   \n",
       "12464860            2450            133952                       0   \n",
       "11201234            1562            101012                       1   \n",
       "17057703            1485            997112                       1   \n",
       "\n",
       "          four_or_more_bedrooms  three_or_more_bathrooms  \\\n",
       "parcelid                                                   \n",
       "11238456                      0                        1   \n",
       "17273265                      0                        1   \n",
       "12464860                      1                        0   \n",
       "11201234                      0                        1   \n",
       "17057703                      0                        0   \n",
       "\n",
       "          two_half_or_less_bathrooms  \n",
       "parcelid                              \n",
       "11238456                           0  \n",
       "17273265                           0  \n",
       "12464860                           0  \n",
       "11201234                           0  \n",
       "17057703                           1  "
      ]
     },
     "execution_count": 146,
     "metadata": {},
     "output_type": "execute_result"
    }
   ],
   "source": [
    "train.head()"
   ]
  },
  {
   "cell_type": "code",
   "execution_count": 147,
   "metadata": {},
   "outputs": [
    {
     "name": "stdout",
     "output_type": "stream",
     "text": [
      "<class 'pandas.core.frame.DataFrame'>\n",
      "Int64Index: 14100 entries, 11238456 to 14338873\n",
      "Data columns (total 6 columns):\n",
      " #   Column                      Non-Null Count  Dtype\n",
      "---  ------                      --------------  -----\n",
      " 0   total_squareft              14100 non-null  int64\n",
      " 1   assessment_value            14100 non-null  int64\n",
      " 2   three_or_less_bedrooms      14100 non-null  int64\n",
      " 3   four_or_more_bedrooms       14100 non-null  int64\n",
      " 4   three_or_more_bathrooms     14100 non-null  int64\n",
      " 5   two_half_or_less_bathrooms  14100 non-null  int64\n",
      "dtypes: int64(6)\n",
      "memory usage: 771.1 KB\n"
     ]
    }
   ],
   "source": [
    "train.info()"
   ]
  },
  {
   "cell_type": "code",
   "execution_count": 148,
   "metadata": {},
   "outputs": [],
   "source": [
    "# Remember the goal here im a zillow employee \n",
    "# For the first iteration of your model, use only square feet of the home, \n",
    "# number of bedrooms, and number of bathrooms to estimate the property's assessed value, taxvaluedollarcnt."
   ]
  },
  {
   "cell_type": "code",
   "execution_count": 149,
   "metadata": {},
   "outputs": [],
   "source": [
    "cat_vars = ['bedroomcnt', 'bathroomcnt','three_or_less_bedrooms', 'four_or_more_bedrooms', 'three_or_more_bathrooms', 'two_half_or_less_bathrooms']\n",
    "quant_vars = ['total_squareft','assessment_value']"
   ]
  },
  {
   "cell_type": "markdown",
   "metadata": {},
   "source": [
    "## Exploring Charts"
   ]
  },
  {
   "cell_type": "code",
   "execution_count": 150,
   "metadata": {},
   "outputs": [
    {
     "data": {
      "text/plain": [
       "<seaborn.axisgrid.FacetGrid at 0x7f95b2508dc0>"
      ]
     },
     "execution_count": 150,
     "metadata": {},
     "output_type": "execute_result"
    },
    {
     "data": {
      "image/png": "[encoded data removed]",
      "text/plain": [
       "<Figure size 360x360 with 1 Axes>"
      ]
     },
     "metadata": {
      "needs_background": "light"
     },
     "output_type": "display_data"
    }
   ],
   "source": [
    "# there isnt really a great visible trend, an assumption can be made whiich as totalsquareft increase assessment_value increases.\n",
    "sns.lmplot(x = 'assessment_value', y = 'total_squareft' , data = train, line_kws={'color': 'red'})"
   ]
  },
  {
   "cell_type": "markdown",
   "metadata": {},
   "source": [
    "### Lmplot Main Takeaway:\n",
    "\n",
    "- With the amount of data within the DF the chart is very cluttered with points. You can barely make out a trend which shows as total square ft increase so does the assessment value.\n",
    "- This makes sense, the larger the square footage the greater the cost of the house. However this can be misleading without additional information. Areas can deplete a homes value even if the house is larger and also the age can result in a larger house value also being less. So remember to keep this in mind."
   ]
  },
  {
   "cell_type": "code",
   "execution_count": 151,
   "metadata": {},
   "outputs": [],
   "source": [
    "cat_vars = ['three_or_less_bedrooms', 'four_or_more_bedrooms', 'three_or_more_bathrooms', 'two_half_or_less_bathrooms']\n",
    "quant_var = ['total_squareft', 'assessment_value']"
   ]
  },
  {
   "cell_type": "code",
   "execution_count": 152,
   "metadata": {},
   "outputs": [
    {
     "data": {
      "text/plain": [
       "<AxesSubplot:xlabel='two_half_or_less_bathrooms', ylabel='assessment_value'>"
      ]
     },
     "execution_count": 152,
     "metadata": {},
     "output_type": "execute_result"
    },
    {
     "data": {
      "image/png": "[encoded data removed]",
      "text/plain": [
       "<Figure size 432x288 with 1 Axes>"
      ]
     },
     "metadata": {
      "needs_background": "light"
     },
     "output_type": "display_data"
    }
   ],
   "source": [
    "# can see that the tow and half baths or less have the max assessment_value\n",
    "sns.barplot(x='two_half_or_less_bathrooms', y='assessment_value', data=train)"
   ]
  },
  {
   "cell_type": "code",
   "execution_count": 153,
   "metadata": {},
   "outputs": [
    {
     "data": {
      "text/plain": [
       "<AxesSubplot:xlabel='three_or_less_bedrooms', ylabel='assessment_value'>"
      ]
     },
     "execution_count": 153,
     "metadata": {},
     "output_type": "execute_result"
    },
    {
     "data": {
      "image/png": "[encoded data removed]",
      "text/plain": [
       "<Figure size 432x288 with 1 Axes>"
      ]
     },
     "metadata": {
      "needs_background": "light"
     },
     "output_type": "display_data"
    }
   ],
   "source": [
    "#greater than 3 bedrooms have the max assessment value.\n",
    "sns.barplot(x='three_or_less_bedrooms', y='assessment_value', data=train)"
   ]
  },
  {
   "cell_type": "markdown",
   "metadata": {},
   "source": [
    "#### Barplot takeaways:\n",
    "- Can clearly see there is a trend as the number bedrooms increase as does the assessment value. 3 or more bathrooms has a larger number of high assessment values than those with less.\n",
    "- Those with three or more bedrooms have more higher assessment_values than those with less than. \n",
    "    "
   ]
  },
  {
   "cell_type": "code",
   "execution_count": null,
   "metadata": {},
   "outputs": [],
   "source": []
  },
  {
   "cell_type": "markdown",
   "metadata": {},
   "source": [
    "#### Bivariate Charts"
   ]
  },
  {
   "cell_type": "markdown",
   "metadata": {},
   "source": [
    "explore.explore_bivariate(train,'assessment_value', cat_vars, None)"
   ]
  },
  {
   "cell_type": "markdown",
   "metadata": {},
   "source": [
    "#### Chart Main Takeways: \n",
    "\n",
    "- Appears to be a correlation between assessment value and totalsquare footage.\n",
    "- Those 3 bathrooms or more. appear to have higher assessment values than those who dont.\n",
    "- Those have more than 3 bedrooms appear to have higher assessment values than those who dont.\n"
   ]
  },
  {
   "cell_type": "code",
   "execution_count": 154,
   "metadata": {},
   "outputs": [
    {
     "data": {
      "text/html": [
       "<div>\n",
       "<style scoped>\n",
       "    .dataframe tbody tr th:only-of-type {\n",
       "        vertical-align: middle;\n",
       "    }\n",
       "\n",
       "    .dataframe tbody tr th {\n",
       "        vertical-align: top;\n",
       "    }\n",
       "\n",
       "    .dataframe thead th {\n",
       "        text-align: right;\n",
       "    }\n",
       "</style>\n",
       "<table border=\"1\" class=\"dataframe\">\n",
       "  <thead>\n",
       "    <tr style=\"text-align: right;\">\n",
       "      <th></th>\n",
       "      <th>total_squareft</th>\n",
       "      <th>assessment_value</th>\n",
       "      <th>three_or_less_bedrooms</th>\n",
       "      <th>four_or_more_bedrooms</th>\n",
       "      <th>three_or_more_bathrooms</th>\n",
       "      <th>two_half_or_less_bathrooms</th>\n",
       "    </tr>\n",
       "    <tr>\n",
       "      <th>parcelid</th>\n",
       "      <th></th>\n",
       "      <th></th>\n",
       "      <th></th>\n",
       "      <th></th>\n",
       "      <th></th>\n",
       "      <th></th>\n",
       "    </tr>\n",
       "  </thead>\n",
       "  <tbody>\n",
       "    <tr>\n",
       "      <th>11238456</th>\n",
       "      <td>1296</td>\n",
       "      <td>100794</td>\n",
       "      <td>1</td>\n",
       "      <td>0</td>\n",
       "      <td>1</td>\n",
       "      <td>0</td>\n",
       "    </tr>\n",
       "    <tr>\n",
       "      <th>17273265</th>\n",
       "      <td>1308</td>\n",
       "      <td>255407</td>\n",
       "      <td>1</td>\n",
       "      <td>0</td>\n",
       "      <td>1</td>\n",
       "      <td>0</td>\n",
       "    </tr>\n",
       "    <tr>\n",
       "      <th>12464860</th>\n",
       "      <td>2450</td>\n",
       "      <td>133952</td>\n",
       "      <td>0</td>\n",
       "      <td>1</td>\n",
       "      <td>0</td>\n",
       "      <td>0</td>\n",
       "    </tr>\n",
       "    <tr>\n",
       "      <th>11201234</th>\n",
       "      <td>1562</td>\n",
       "      <td>101012</td>\n",
       "      <td>1</td>\n",
       "      <td>0</td>\n",
       "      <td>1</td>\n",
       "      <td>0</td>\n",
       "    </tr>\n",
       "    <tr>\n",
       "      <th>17057703</th>\n",
       "      <td>1485</td>\n",
       "      <td>997112</td>\n",
       "      <td>1</td>\n",
       "      <td>0</td>\n",
       "      <td>0</td>\n",
       "      <td>1</td>\n",
       "    </tr>\n",
       "  </tbody>\n",
       "</table>\n",
       "</div>"
      ],
      "text/plain": [
       "          total_squareft  assessment_value  three_or_less_bedrooms  \\\n",
       "parcelid                                                             \n",
       "11238456            1296            100794                       1   \n",
       "17273265            1308            255407                       1   \n",
       "12464860            2450            133952                       0   \n",
       "11201234            1562            101012                       1   \n",
       "17057703            1485            997112                       1   \n",
       "\n",
       "          four_or_more_bedrooms  three_or_more_bathrooms  \\\n",
       "parcelid                                                   \n",
       "11238456                      0                        1   \n",
       "17273265                      0                        1   \n",
       "12464860                      1                        0   \n",
       "11201234                      0                        1   \n",
       "17057703                      0                        0   \n",
       "\n",
       "          two_half_or_less_bathrooms  \n",
       "parcelid                              \n",
       "11238456                           0  \n",
       "17273265                           0  \n",
       "12464860                           0  \n",
       "11201234                           0  \n",
       "17057703                           1  "
      ]
     },
     "execution_count": 154,
     "metadata": {},
     "output_type": "execute_result"
    }
   ],
   "source": [
    "train.head()"
   ]
  },
  {
   "cell_type": "markdown",
   "metadata": {},
   "source": [
    "#### Utilize Heat Map to see which features correlate the strongest with the target (assessment_value)"
   ]
  },
  {
   "cell_type": "code",
   "execution_count": 155,
   "metadata": {},
   "outputs": [
    {
     "data": {
      "text/plain": [
       "<AxesSubplot:title={'center':'Feautures  Correlating with assessment_value'}>"
      ]
     },
     "execution_count": 155,
     "metadata": {},
     "output_type": "execute_result"
    },
    {
     "data": {
      "image/png": "[encoded data removed]",
      "text/plain": [
       "<Figure size 1008x864 with 2 Axes>"
      ]
     },
     "metadata": {
      "needs_background": "light"
     },
     "output_type": "display_data"
    }
   ],
   "source": [
    "#strongest correlation is total_squareft, four or more bedrooms, three or more bathrooms\n",
    "explore.get_heatmap(train, 'assessment_value')"
   ]
  },
  {
   "cell_type": "markdown",
   "metadata": {},
   "source": [
    "### Hypothesis:\n",
    "\n",
    "- Null: There is no relationship between the square footage of a house and assessment value. Possibly as square foot increase so does the assessment value. Contin vs contin Correlation Test.\n",
    "- Null: There is no difference in the assessment values for those who have four or more bedrooms than those who dont. Categorical and continous \n"
   ]
  },
  {
   "cell_type": "code",
   "execution_count": 156,
   "metadata": {},
   "outputs": [
    {
     "name": "stdout",
     "output_type": "stream",
     "text": [
      " Pearson correlation coefficient is 0.48091471407251496, the corresponding p value is 0.0.\n",
      " We reject the null, and accept HA: there is a relationship between total_squareft and assessment_value\n"
     ]
    },
    {
     "data": {
      "image/png": "[encoded data removed]",
      "text/plain": [
       "<Figure size 432x288 with 1 Axes>"
      ]
     },
     "metadata": {
      "needs_background": "light"
     },
     "output_type": "display_data"
    }
   ],
   "source": [
    "#Pearson Correlation\n",
    "\n",
    "## Null: There is no relationship between the square footage of a house and assessment value. \n",
    "\n",
    "    \n",
    "alpha = 0.05\n",
    "\n",
    "corr, p = stats.pearsonr(zillow.total_squareft, zillow.assessment_value)\n",
    "print(f' Pearson correlation coefficient is {corr}, the corresponding p value is {p}.')\n",
    "\n",
    "\n",
    "zillow.plot.scatter('total_squareft', 'assessment_value')\n",
    "plt.title('assessment_value vs total_squareft')\n",
    "\n",
    "if p < 0.05:\n",
    "    print(' We reject the null, and accept HA: there is a relationship between total_squareft and assessment_value')\n",
    "else:\n",
    "    print(' We accept null there is no relationship between total_squareft and assessment_value')\n"
   ]
  },
  {
   "cell_type": "code",
   "execution_count": 157,
   "metadata": {},
   "outputs": [
    {
     "name": "stdout",
     "output_type": "stream",
     "text": [
      "\n",
      "statistic = 25.9369\n",
      "p_value = 0.0000\n",
      "\n",
      "We can reject the null hypothesis that There is no difference in the assessment values for those who have four or more bedrooms than those who dont.\n"
     ]
    }
   ],
   "source": [
    "#TTest\n",
    "# make a subset \n",
    "x1 = train[train.four_or_more_bedrooms == 1].assessment_value\n",
    "x2 = train[train.four_or_more_bedrooms == 0].assessment_value\n",
    "\n",
    "\n",
    "# run a 2 sample, 2 tail t-test\n",
    "t_stat, p = stats.ttest_ind(x1, x2)\n",
    "\n",
    "print(f'\\nstatistic = {t_stat:.4f}')\n",
    "print(f'p_value = {p:.4f}')\n",
    "\n",
    "# set alpha\n",
    "alpha = 0.05\n",
    "\n",
    "null_hypothesis = \"There is no difference in the assessment values for those who have four or more bedrooms than those who dont.\"\n",
    "\n",
    "if p < alpha:\n",
    "    print(f'\\nWe can reject the null hypothesis that', null_hypothesis)\n",
    "else:\n",
    "    print(f'\\nWe fail to reject the null hypothesis.')"
   ]
  },
  {
   "cell_type": "code",
   "execution_count": 158,
   "metadata": {},
   "outputs": [
    {
     "data": {
      "text/plain": [
       "<AxesSubplot:xlabel='four_or_more_bedrooms', ylabel='assessment_value'>"
      ]
     },
     "execution_count": 158,
     "metadata": {},
     "output_type": "execute_result"
    },
    {
     "data": {
      "image/png": "[encoded data removed]",
      "text/plain": [
       "<Figure size 432x288 with 1 Axes>"
      ]
     },
     "metadata": {
      "needs_background": "light"
     },
     "output_type": "display_data"
    }
   ],
   "source": [
    "sns.barplot(x='four_or_more_bedrooms', y='assessment_value', data=train)"
   ]
  },
  {
   "cell_type": "code",
   "execution_count": null,
   "metadata": {},
   "outputs": [],
   "source": []
  },
  {
   "cell_type": "markdown",
   "metadata": {},
   "source": [
    "### Main Takeaways:\n",
    "- We rejected the NUll hypothesis for each test.\n",
    "- There is a difference in assessment values for those who have homes with >= 4 bedrooms.\n",
    "- Based on the pearson coefficent and p value, we can say that there is a relationship between totalsquare_ft and assessment_value.\n"
   ]
  },
  {
   "cell_type": "code",
   "execution_count": null,
   "metadata": {},
   "outputs": [],
   "source": []
  },
  {
   "cell_type": "markdown",
   "metadata": {},
   "source": [
    "# Modeling:"
   ]
  },
  {
   "cell_type": "markdown",
   "metadata": {},
   "source": [
    "### Need to set baseline accuracy."
   ]
  },
  {
   "cell_type": "markdown",
   "metadata": {},
   "source": [
    "About the initial baseline:\n",
    "\n",
    "- 1.) Need to know how well we can estimate (predict) the assessment_value without using any features.Need to look at the mean or the median. \n",
    "- 2.) Try both the mean and the median, see which performs best, and set that evaluation metric value as our baseline performance to beat.\n"
   ]
  },
  {
   "cell_type": "code",
   "execution_count": 159,
   "metadata": {},
   "outputs": [],
   "source": [
    "X_train, y_train, X_validate, y_validate, X_test, y_test = zillow_wrangle.train_validate_test(zillow, 'assessment_value', None)"
   ]
  },
  {
   "cell_type": "code",
   "execution_count": 160,
   "metadata": {},
   "outputs": [
    {
     "data": {
      "text/plain": [
       "((5036,), (5036, 5))"
      ]
     },
     "execution_count": 160,
     "metadata": {},
     "output_type": "execute_result"
    }
   ],
   "source": [
    "y_test.shape, X_test.shape"
   ]
  },
  {
   "cell_type": "code",
   "execution_count": 161,
   "metadata": {},
   "outputs": [
    {
     "data": {
      "text/plain": [
       "parcelid\n",
       "11279265     49237\n",
       "17129558    543904\n",
       "12586708    270912\n",
       "11667433    163284\n",
       "12815333    101018\n",
       "Name: assessment_value, dtype: int64"
      ]
     },
     "execution_count": 161,
     "metadata": {},
     "output_type": "execute_result"
    }
   ],
   "source": [
    "y_test.head()"
   ]
  },
  {
   "cell_type": "code",
   "execution_count": 162,
   "metadata": {},
   "outputs": [
    {
     "data": {
      "text/plain": [
       "(393959.19141843973, 350085.0)"
      ]
     },
     "execution_count": 162,
     "metadata": {},
     "output_type": "execute_result"
    }
   ],
   "source": [
    "# mean and median are farily similar.\n",
    "y_train.mean(), y_train.median()"
   ]
  },
  {
   "cell_type": "code",
   "execution_count": 163,
   "metadata": {},
   "outputs": [
    {
     "data": {
      "image/png": "[encoded data removed]",
      "text/plain": [
       "<Figure size 432x288 with 1 Axes>"
      ]
     },
     "metadata": {
      "needs_background": "light"
     },
     "output_type": "display_data"
    }
   ],
   "source": [
    "# Skewed right but observations greater than 30 and within 4000 dollars of each.\n",
    "plt.hist(y_train)\n",
    "plt.xlabel(\"Assessment_value\")\n",
    "plt.ylabel(\"count\")\n",
    "plt.show()"
   ]
  },
  {
   "cell_type": "code",
   "execution_count": 164,
   "metadata": {},
   "outputs": [
    {
     "name": "stdout",
     "output_type": "stream",
     "text": [
      "RMSE using Mean\n",
      "Train/In-Sample:  263663.92 \n",
      "Validate/Out-of-Sample:  263244.25\n"
     ]
    }
   ],
   "source": [
    "# y_train and y_validate have to be dataframes to append the new columns with predicted values. \n",
    "y_train = pd.DataFrame(y_train)\n",
    "y_validate = pd.DataFrame(y_validate)\n",
    "\n",
    "# 1. Predict assessment_value_pred_mean\n",
    "assessment_value_pred_mean = y_train.assessment_value.mean()\n",
    "y_train['assessment_value_pred_mean'] = assessment_value_pred_mean \n",
    "y_validate['assessment_value_pred_mean'] = assessment_value_pred_mean \n",
    "\n",
    "# 2. compute assessment_value_pred_median\n",
    "assessment_value_median = y_train.assessment_value.median()\n",
    "y_train['assessment_value_median'] = assessment_value_median\n",
    "y_validate['assessment_value_median'] = assessment_value_median\n",
    "\n",
    "# 3. RMSE of assessment_value_pred_mean\n",
    "rmse_train = mean_squared_error(y_train.assessment_value, y_train.assessment_value_pred_mean) ** 0.5\n",
    "rmse_validate = mean_squared_error(y_validate.assessment_value, y_validate.assessment_value_pred_mean) ** 0.5\n",
    "\n",
    "print(\"RMSE using Mean\\nTrain/In-Sample: \", round(rmse_train, 2), \n",
    "      \"\\nValidate/Out-of-Sample: \", round(rmse_validate, 2))"
   ]
  },
  {
   "cell_type": "code",
   "execution_count": 165,
   "metadata": {},
   "outputs": [
    {
     "name": "stdout",
     "output_type": "stream",
     "text": [
      "RMSE using Median\n",
      "Train/In-Sample:  267289.37 \n",
      "Validate/Out-of-Sample:  263244.25\n"
     ]
    }
   ],
   "source": [
    "# 4. RMSE of assessment_pred_median\n",
    "rmse_train = mean_squared_error(y_train.assessment_value, y_train.assessment_value_median) ** .5\n",
    "mse_validate = mean_squared_error(y_validate.assessment_value, y_validate.assessment_value_median) ** .5\n",
    "print(\"RMSE using Median\\nTrain/In-Sample: \", round(rmse_train, 2), \n",
    "      \"\\nValidate/Out-of-Sample: \", round(rmse_validate, 2))"
   ]
  },
  {
   "cell_type": "code",
   "execution_count": 166,
   "metadata": {},
   "outputs": [
    {
     "data": {
      "text/html": [
       "<div>\n",
       "<style scoped>\n",
       "    .dataframe tbody tr th:only-of-type {\n",
       "        vertical-align: middle;\n",
       "    }\n",
       "\n",
       "    .dataframe tbody tr th {\n",
       "        vertical-align: top;\n",
       "    }\n",
       "\n",
       "    .dataframe thead th {\n",
       "        text-align: right;\n",
       "    }\n",
       "</style>\n",
       "<table border=\"1\" class=\"dataframe\">\n",
       "  <thead>\n",
       "    <tr style=\"text-align: right;\">\n",
       "      <th></th>\n",
       "      <th>assessment_value</th>\n",
       "      <th>assessment_value_pred_mean</th>\n",
       "      <th>assessment_value_median</th>\n",
       "    </tr>\n",
       "    <tr>\n",
       "      <th>parcelid</th>\n",
       "      <th></th>\n",
       "      <th></th>\n",
       "      <th></th>\n",
       "    </tr>\n",
       "  </thead>\n",
       "  <tbody>\n",
       "    <tr>\n",
       "      <th>11238456</th>\n",
       "      <td>100794</td>\n",
       "      <td>393959.191418</td>\n",
       "      <td>350085.0</td>\n",
       "    </tr>\n",
       "    <tr>\n",
       "      <th>17273265</th>\n",
       "      <td>255407</td>\n",
       "      <td>393959.191418</td>\n",
       "      <td>350085.0</td>\n",
       "    </tr>\n",
       "    <tr>\n",
       "      <th>12464860</th>\n",
       "      <td>133952</td>\n",
       "      <td>393959.191418</td>\n",
       "      <td>350085.0</td>\n",
       "    </tr>\n",
       "    <tr>\n",
       "      <th>11201234</th>\n",
       "      <td>101012</td>\n",
       "      <td>393959.191418</td>\n",
       "      <td>350085.0</td>\n",
       "    </tr>\n",
       "    <tr>\n",
       "      <th>17057703</th>\n",
       "      <td>997112</td>\n",
       "      <td>393959.191418</td>\n",
       "      <td>350085.0</td>\n",
       "    </tr>\n",
       "  </tbody>\n",
       "</table>\n",
       "</div>"
      ],
      "text/plain": [
       "          assessment_value  assessment_value_pred_mean  \\\n",
       "parcelid                                                 \n",
       "11238456            100794               393959.191418   \n",
       "17273265            255407               393959.191418   \n",
       "12464860            133952               393959.191418   \n",
       "11201234            101012               393959.191418   \n",
       "17057703            997112               393959.191418   \n",
       "\n",
       "          assessment_value_median  \n",
       "parcelid                           \n",
       "11238456                 350085.0  \n",
       "17273265                 350085.0  \n",
       "12464860                 350085.0  \n",
       "11201234                 350085.0  \n",
       "17057703                 350085.0  "
      ]
     },
     "execution_count": 166,
     "metadata": {},
     "output_type": "execute_result"
    }
   ],
   "source": [
    "y_train.head()"
   ]
  },
  {
   "cell_type": "code",
   "execution_count": 167,
   "metadata": {},
   "outputs": [],
   "source": [
    "#have stated our baseline accuracy for the model to beatr in order to be considered valid.\n",
    "baseline = y_train.assessment_value.mean()\n",
    "y_train['baseline'] = baseline"
   ]
  },
  {
   "cell_type": "code",
   "execution_count": 168,
   "metadata": {},
   "outputs": [
    {
     "name": "stdout",
     "output_type": "stream",
     "text": [
      "Train RMSE Baseline 263663.9232487312.\n"
     ]
    }
   ],
   "source": [
    "# Baseline RMSE calculation.\n",
    "baseline_RMSE = math.sqrt(mean_squared_error(y_train.assessment_value, y_train.baseline))\n",
    "print(f'Train RMSE Baseline {baseline_RMSE}.')"
   ]
  },
  {
   "cell_type": "code",
   "execution_count": 169,
   "metadata": {},
   "outputs": [
    {
     "data": {
      "text/html": [
       "<div>\n",
       "<style scoped>\n",
       "    .dataframe tbody tr th:only-of-type {\n",
       "        vertical-align: middle;\n",
       "    }\n",
       "\n",
       "    .dataframe tbody tr th {\n",
       "        vertical-align: top;\n",
       "    }\n",
       "\n",
       "    .dataframe thead th {\n",
       "        text-align: right;\n",
       "    }\n",
       "</style>\n",
       "<table border=\"1\" class=\"dataframe\">\n",
       "  <thead>\n",
       "    <tr style=\"text-align: right;\">\n",
       "      <th></th>\n",
       "      <th>assessment_value</th>\n",
       "      <th>assessment_value_pred_mean</th>\n",
       "      <th>assessment_value_median</th>\n",
       "      <th>baseline</th>\n",
       "    </tr>\n",
       "    <tr>\n",
       "      <th>parcelid</th>\n",
       "      <th></th>\n",
       "      <th></th>\n",
       "      <th></th>\n",
       "      <th></th>\n",
       "    </tr>\n",
       "  </thead>\n",
       "  <tbody>\n",
       "    <tr>\n",
       "      <th>11238456</th>\n",
       "      <td>100794</td>\n",
       "      <td>393959.191418</td>\n",
       "      <td>350085.0</td>\n",
       "      <td>393959.191418</td>\n",
       "    </tr>\n",
       "    <tr>\n",
       "      <th>17273265</th>\n",
       "      <td>255407</td>\n",
       "      <td>393959.191418</td>\n",
       "      <td>350085.0</td>\n",
       "      <td>393959.191418</td>\n",
       "    </tr>\n",
       "    <tr>\n",
       "      <th>12464860</th>\n",
       "      <td>133952</td>\n",
       "      <td>393959.191418</td>\n",
       "      <td>350085.0</td>\n",
       "      <td>393959.191418</td>\n",
       "    </tr>\n",
       "    <tr>\n",
       "      <th>11201234</th>\n",
       "      <td>101012</td>\n",
       "      <td>393959.191418</td>\n",
       "      <td>350085.0</td>\n",
       "      <td>393959.191418</td>\n",
       "    </tr>\n",
       "    <tr>\n",
       "      <th>17057703</th>\n",
       "      <td>997112</td>\n",
       "      <td>393959.191418</td>\n",
       "      <td>350085.0</td>\n",
       "      <td>393959.191418</td>\n",
       "    </tr>\n",
       "  </tbody>\n",
       "</table>\n",
       "</div>"
      ],
      "text/plain": [
       "          assessment_value  assessment_value_pred_mean  \\\n",
       "parcelid                                                 \n",
       "11238456            100794               393959.191418   \n",
       "17273265            255407               393959.191418   \n",
       "12464860            133952               393959.191418   \n",
       "11201234            101012               393959.191418   \n",
       "17057703            997112               393959.191418   \n",
       "\n",
       "          assessment_value_median       baseline  \n",
       "parcelid                                          \n",
       "11238456                 350085.0  393959.191418  \n",
       "17273265                 350085.0  393959.191418  \n",
       "12464860                 350085.0  393959.191418  \n",
       "11201234                 350085.0  393959.191418  \n",
       "17057703                 350085.0  393959.191418  "
      ]
     },
     "execution_count": 169,
     "metadata": {},
     "output_type": "execute_result"
    }
   ],
   "source": [
    "y_train.head()"
   ]
  },
  {
   "cell_type": "markdown",
   "metadata": {},
   "source": [
    "### Model 1: Regression Model"
   ]
  },
  {
   "cell_type": "code",
   "execution_count": 170,
   "metadata": {},
   "outputs": [
    {
     "name": "stdout",
     "output_type": "stream",
     "text": [
      "RMSE for OLS using LinearRegression\n",
      "Training/In-Sample:  230956.06167951802 \n",
      "Validation/Out-of-Sample:  227968.27728868957\n",
      "Explained Variance Linear Regression Model =  0.233\n"
     ]
    }
   ],
   "source": [
    "# create the model object\n",
    "linear_model = LinearRegression(normalize=True)\n",
    "\n",
    "# fit the model to our training data. We must specify the column in y_train, \n",
    "# since we have converted it to a dataframe from a series! \n",
    "linear_model.fit(X_train, y_train.assessment_value)\n",
    "\n",
    "# predict train\n",
    "y_train['assessment_value_predict_lm'] = linear_model.predict(X_train)\n",
    "\n",
    "# evaluate: rmse\n",
    "rmse_train_lr = mean_squared_error(y_train.assessment_value, y_train.assessment_value_predict_lm)**(1/2)\n",
    "\n",
    "# predict validate\n",
    "y_validate['assessment_value_predict_lm'] = linear_model.predict(X_validate)\n",
    "\n",
    "# evaluate: rmse\n",
    "rmse_validate_lr = mean_squared_error(y_validate.assessment_value, y_validate.assessment_value_predict_lm)**(1/2)\n",
    "\n",
    "print(\"RMSE for OLS using LinearRegression\\nTraining/In-Sample: \", rmse_train_lr, \n",
    "      \"\\nValidation/Out-of-Sample: \", rmse_validate_lr)\n",
    "evs_lr = explained_variance_score(y_train.assessment_value, y_train.assessment_value_predict_lm)\n",
    "print('Explained Variance Linear Regression Model = ', round(evs_lr,3))"
   ]
  },
  {
   "cell_type": "markdown",
   "metadata": {},
   "source": [
    "#### Linear_regression takeaway:\n",
    "- The RMSE values for the training and validate differ by ~$3000.00\n",
    "- So due to the RMSE value representing dollars, I feel comfortable in saying this is an exceptable model.\n",
    "- Train out performed the baseline, as did the validate, so the model is valid and useful in predicting assessment value."
   ]
  },
  {
   "cell_type": "markdown",
   "metadata": {},
   "source": [
    "### Model 2 : Polynomial"
   ]
  },
  {
   "cell_type": "code",
   "execution_count": 171,
   "metadata": {},
   "outputs": [],
   "source": [
    "# make the polynomial features to get a new set of features\n",
    "poly_feat = PolynomialFeatures(degree=3)\n",
    "\n",
    "# fit and transform X_train\n",
    "X_train_degree3 = poly_feat.fit_transform(X_train)\n",
    "\n",
    "# transform X_validate & X_test\n",
    "X_validate_degree3 = poly_feat.transform(X_validate)\n",
    "X_test_degree3 = poly_feat.transform(X_test)\n"
   ]
  },
  {
   "cell_type": "code",
   "execution_count": 172,
   "metadata": {},
   "outputs": [
    {
     "data": {
      "text/plain": [
       "((5036,), (5036, 5), (5036, 56))"
      ]
     },
     "execution_count": 172,
     "metadata": {},
     "output_type": "execute_result"
    }
   ],
   "source": [
    "y_test.shape, X_test.shape, X_test_degree3.shape"
   ]
  },
  {
   "cell_type": "code",
   "execution_count": 173,
   "metadata": {},
   "outputs": [
    {
     "name": "stdout",
     "output_type": "stream",
     "text": [
      "RMSE for Polynomial Model, degrees=3\n",
      "Training/In-Sample:  230803.69804472508 \n",
      "Validation/Out-of-Sample:  227951.14520817724 \n",
      "Baseline RMSE value is  263663.9232487312\n",
      "Explained Variance Polynomial Model =  0.234\n"
     ]
    }
   ],
   "source": [
    "# create the model object\n",
    "linear_model3 = LinearRegression(normalize=True)\n",
    "\n",
    "# fit the model to our training data. We must specify the column in y_train, \n",
    "# since we have converted it to a dataframe from a series! \n",
    "linear_model3.fit(X_train_degree3, y_train.assessment_value)\n",
    "\n",
    "# predict train\n",
    "y_train['assessment_predict_linear_model3'] = linear_model3.predict(X_train_degree3)\n",
    "\n",
    "# evaluate: rmse\n",
    "rmse_train_poly = mean_squared_error(y_train.assessment_value, y_train.assessment_predict_linear_model3)**(1/2)\n",
    "\n",
    "# predict validate\n",
    "y_validate['assessment_predict_linear_model3'] = linear_model3.predict(X_validate_degree3)\n",
    "\n",
    "# evaluate: rmse\n",
    "rmse_validate_poly = mean_squared_error(y_validate.assessment_value, y_validate.assessment_predict_linear_model3)**(1/2)\n",
    "\n",
    "print(\"RMSE for Polynomial Model, degrees=3\\nTraining/In-Sample: \", rmse_train_poly, \n",
    "      \"\\nValidation/Out-of-Sample: \", rmse_validate_poly, \n",
    "      \"\\nBaseline RMSE value is \", baseline_RMSE)\n",
    "evs_poly = explained_variance_score(y_train.assessment_value, y_train.assessment_predict_linear_model3)\n",
    "print('Explained Variance Polynomial Model = ', round(evs_poly,3))"
   ]
  },
  {
   "cell_type": "markdown",
   "metadata": {},
   "source": [
    "#### Polynomial Model Takeaway:\n",
    "    \n",
    "- Polynomial performed same as regression\n",
    "- Model doesnt appear to be overfit.\n",
    "- Model performed better than the baseline."
   ]
  },
  {
   "cell_type": "markdown",
   "metadata": {},
   "source": [
    "### Model 3: Lasso Lars "
   ]
  },
  {
   "cell_type": "code",
   "execution_count": 174,
   "metadata": {},
   "outputs": [
    {
     "name": "stdout",
     "output_type": "stream",
     "text": [
      "RMSE for Lasso + Lars\n",
      "Training/In-Sample:  230956.70021901326 \n",
      "Validation/Out-of-Sample:  227978.63911303616\n",
      "Explained Variance Linear Regression Model =  0.233\n"
     ]
    }
   ],
   "source": [
    "# create the model object\n",
    "lars_model = LassoLars(alpha=1.0)\n",
    "\n",
    "# fit the model to our training data. We must specify the column in y_train, \n",
    "# since we have converted it to a dataframe from a series! \n",
    "lars_model.fit(X_train, y_train.assessment_value)\n",
    "\n",
    "# predict train\n",
    "y_train['assessment_value_prediction_lars'] = lars_model.predict(X_train)\n",
    "\n",
    "# evaluate: rmse\n",
    "rmse_train_lars = mean_squared_error(y_train.assessment_value, y_train.assessment_value_prediction_lars)**(1/2)\n",
    "\n",
    "# predict validate\n",
    "y_validate['assessment_value_prediction_lars'] = lars_model.predict(X_validate)\n",
    "\n",
    "# evaluate: rmse\n",
    "rmse_validate_lars = mean_squared_error(y_validate.assessment_value, y_validate.assessment_value_prediction_lars)**(1/2)\n",
    "\n",
    "print(\"RMSE for Lasso + Lars\\nTraining/In-Sample: \", rmse_train_lars, \n",
    "      \"\\nValidation/Out-of-Sample: \", rmse_validate_lars)\n",
    "evs_lars = explained_variance_score(y_train.assessment_value, y_train.assessment_value_prediction_lars)\n",
    "print('Explained Variance Linear Regression Model = ', round(evs_lars,3))"
   ]
  },
  {
   "cell_type": "code",
   "execution_count": null,
   "metadata": {},
   "outputs": [],
   "source": []
  },
  {
   "cell_type": "markdown",
   "metadata": {},
   "source": [
    "#### Lasso Lars Model Takeaway:\n",
    "    \n",
    "- Lasso lars performed worse than the other two models\n",
    "- Model performed better than the baseline."
   ]
  },
  {
   "cell_type": "code",
   "execution_count": 175,
   "metadata": {},
   "outputs": [
    {
     "data": {
      "image/png": "[encoded data removed]",
      "text/plain": [
       "<Figure size 1152x1152 with 1 Axes>"
      ]
     },
     "metadata": {
      "needs_background": "light"
     },
     "output_type": "display_data"
    }
   ],
   "source": [
    "# plot to visualize actual vs predicted. \n",
    "plt.figure(figsize=(16,16))\n",
    "plt.hist(y_validate.assessment_value, color='grey', alpha=.5, label=\"Actual Assessment Value\")\n",
    "plt.hist(y_validate.assessment_predict_linear_model3, alpha=.5, color=\"yellow\", label=\"Model 2: Linear Regression Model\")\n",
    "plt.hist(y_validate.assessment_value_predict_lm, alpha=.5, color=\"green\", label=\"Model 2: 3rd degree Polynomial\")\n",
    "plt.hist(y_validate.assessment_value_prediction_lars, alpha=.5, color=\"purple\", label=\"Model 3: Lasso Lars \")\n",
    "plt.xlabel(\"Actual Assessment Value\")\n",
    "plt.ylabel(\"Predicted Assessment\")\n",
    "plt.title(\"Assessment Actual vs. Predictions\")\n",
    "plt.legend()\n",
    "plt.show()"
   ]
  },
  {
   "cell_type": "markdown",
   "metadata": {},
   "source": [
    "#### Histo Chart Takeaway:\n",
    "- The main takeaway is that polynomial is the closer fit to the actual compared to other models. "
   ]
  },
  {
   "cell_type": "markdown",
   "metadata": {},
   "source": [
    "### MVP Model Takeaways: \n",
    "- Polynomial model performed better than lasso lars and regression. Ploynomial also performed better than the baseline so the model is viable."
   ]
  },
  {
   "cell_type": "code",
   "execution_count": 176,
   "metadata": {},
   "outputs": [
    {
     "data": {
      "text/plain": [
       "((5036, 56), (5036,))"
      ]
     },
     "execution_count": 176,
     "metadata": {},
     "output_type": "execute_result"
    }
   ],
   "source": [
    "X_test_degree3.shape, y_test.shape"
   ]
  },
  {
   "cell_type": "markdown",
   "metadata": {},
   "source": [
    "# Evaluate on test dataset:"
   ]
  },
  {
   "cell_type": "code",
   "execution_count": 177,
   "metadata": {},
   "outputs": [
    {
     "name": "stdout",
     "output_type": "stream",
     "text": [
      "RMSE for Polynomial Model, degrees=3\n",
      "Training/In-Sample:  230803.69804472508 \n",
      "Validation/Out-of-Sample:  227951.14520817724 \n",
      "Test/Out-of-Sample:  229734.06061287798 \n",
      "Baseline RMSE value is  263663.9232487312\n",
      "Explained Variance Polynomial Model =  0.245\n"
     ]
    }
   ],
   "source": [
    "# create the model object\n",
    "# predict train\n",
    "# create dataframe\n",
    "y_test = pd.DataFrame(y_test)\n",
    "# use the model to make predictions\n",
    "y_test['assessment_predict_poly_test'] = linear_model3.predict(X_test_degree3)\n",
    "\n",
    "# evaluate: rmse\n",
    "rmse_test_poly = mean_squared_error(y_test.assessment_value, y_test.assessment_predict_poly_test)**(1/2)\n",
    "\n",
    "\n",
    "print(\"RMSE for Polynomial Model, degrees=3\\nTraining/In-Sample: \", rmse_train_poly, \n",
    "      \"\\nValidation/Out-of-Sample: \", rmse_validate_poly, \n",
    "      \"\\nTest/Out-of-Sample: \", rmse_test_poly,\n",
    "      \"\\nBaseline RMSE value is \", baseline_RMSE)\n",
    "evs_poly_test = explained_variance_score(y_test.assessment_value, y_test.assessment_predict_poly_test)\n",
    "print('Explained Variance Polynomial Model = ', round(evs_poly_test,3))\n",
    "\n",
    "\n"
   ]
  },
  {
   "cell_type": "markdown",
   "metadata": {},
   "source": [
    "# Conclusions:"
   ]
  },
  {
   "cell_type": "markdown",
   "metadata": {},
   "source": [
    "#### - Using select features to predict the assessment value of single unit properties during May 2017- Aug 2017.\n",
    "#### - Utilized 5 features within model to predict assessment value.\n",
    "#### - Polynomial Model had lowest RMSE value, and performed better than the baseline, so evaluated the test dataset using this model.\n",
    "#### - Evaluted model on test dataset, model performed better than baseine.\n"
   ]
  },
  {
   "cell_type": "code",
   "execution_count": null,
   "metadata": {},
   "outputs": [],
   "source": []
  },
  {
   "cell_type": "code",
   "execution_count": null,
   "metadata": {},
   "outputs": [],
   "source": []
  },
  {
   "cell_type": "markdown",
   "metadata": {},
   "source": [
    "## Other Deliverables:"
   ]
  },
  {
   "cell_type": "code",
   "execution_count": 183,
   "metadata": {},
   "outputs": [],
   "source": [
    "#calculate TAX RATE\n",
    "zillow_df['tax_rate'] = zillow_df['taxamount']/zillow_df['taxvaluedollarcnt']"
   ]
  },
  {
   "cell_type": "code",
   "execution_count": 184,
   "metadata": {},
   "outputs": [
    {
     "data": {
      "text/plain": [
       "6037.0    17962\n",
       "6059.0     7773\n",
       "6111.0     2683\n",
       "Name: fips, dtype: int64"
      ]
     },
     "execution_count": 184,
     "metadata": {},
     "output_type": "execute_result"
    }
   ],
   "source": [
    "zillow_df.fips.value_counts()"
   ]
  },
  {
   "cell_type": "code",
   "execution_count": null,
   "metadata": {},
   "outputs": [],
   "source": []
  },
  {
   "cell_type": "code",
   "execution_count": 185,
   "metadata": {},
   "outputs": [
    {
     "data": {
      "text/plain": [
       "Los Angeles    17962\n",
       "Orange          7773\n",
       "Ventura         2683\n",
       "Name: county_name, dtype: int64"
      ]
     },
     "execution_count": 185,
     "metadata": {},
     "output_type": "execute_result"
    }
   ],
   "source": [
    "#Need to create columns which have state name and county name from the fips column.\n",
    "zillow_df['county_name'] = zillow_df['fips'].map({6037:'Los Angeles', 6059:'Orange', 6111:'Ventura'})\n",
    "zillow_df.county_name.value_counts()"
   ]
  },
  {
   "cell_type": "code",
   "execution_count": 186,
   "metadata": {},
   "outputs": [
    {
     "data": {
      "image/png": "[encoded data removed]",
      "text/plain": [
       "<Figure size 432x288 with 1 Axes>"
      ]
     },
     "metadata": {
      "needs_background": "light"
     },
     "output_type": "display_data"
    }
   ],
   "source": [
    "plt.title('Distribution by County')\n",
    "sns.countplot(zillow_df.county_name)\n",
    "plt.xlabel('County')\n",
    "plt.ylabel('Property Count')\n",
    "plt.show()"
   ]
  },
  {
   "cell_type": "code",
   "execution_count": 187,
   "metadata": {},
   "outputs": [
    {
     "ename": "SyntaxError",
     "evalue": "invalid syntax (<ipython-input-187-99f4042fa2f9>, line 1)",
     "output_type": "error",
     "traceback": [
      "\u001b[0;36m  File \u001b[0;32m\"<ipython-input-187-99f4042fa2f9>\"\u001b[0;36m, line \u001b[0;32m1\u001b[0m\n\u001b[0;31m    Chart Takeaway\u001b[0m\n\u001b[0m          ^\u001b[0m\n\u001b[0;31mSyntaxError\u001b[0m\u001b[0;31m:\u001b[0m invalid syntax\n"
     ]
    }
   ],
   "source": [
    "Chart Takeaway"
   ]
  },
  {
   "cell_type": "code",
   "execution_count": 188,
   "metadata": {},
   "outputs": [
    {
     "data": {
      "image/png": "[encoded data removed]",
      "text/plain": [
       "<Figure size 1008x720 with 1 Axes>"
      ]
     },
     "metadata": {
      "needs_background": "light"
     },
     "output_type": "display_data"
    }
   ],
   "source": [
    "plt.figure(figsize=(14,10))\n",
    "sns.histplot(data=zillow_df, x=\"tax_rate\", hue=\"county_name\",kde = False, bins = 750,  palette={'Orange':'red', 'Los Angeles':'green', 'Ventura':'navy'})\n",
    "plt.xlim(0, 0.03)\n",
    "plt.show()"
   ]
  },
  {
   "cell_type": "code",
   "execution_count": 189,
   "metadata": {},
   "outputs": [
    {
     "name": "stdout",
     "output_type": "stream",
     "text": [
      "<class 'pandas.core.frame.DataFrame'>\n",
      "Int64Index: 28418 entries, 11721753 to 10713993\n",
      "Data columns (total 9 columns):\n",
      " #   Column                        Non-Null Count  Dtype  \n",
      "---  ------                        --------------  -----  \n",
      " 0   bedroomcnt                    28418 non-null  float64\n",
      " 1   bathroomcnt                   28418 non-null  float64\n",
      " 2   calculatedfinishedsquarefeet  28345 non-null  float64\n",
      " 3   taxvaluedollarcnt             28417 non-null  float64\n",
      " 4   yearbuilt                     28322 non-null  float64\n",
      " 5   taxamount                     28417 non-null  float64\n",
      " 6   fips                          28418 non-null  float64\n",
      " 7   tax_rate                      28416 non-null  float64\n",
      " 8   county_name                   28418 non-null  object \n",
      "dtypes: float64(8), object(1)\n",
      "memory usage: 3.4+ MB\n"
     ]
    }
   ],
   "source": [
    "zillow_df.info()"
   ]
  },
  {
   "cell_type": "code",
   "execution_count": null,
   "metadata": {},
   "outputs": [],
   "source": []
  }
 ],
 "metadata": {
  "kernelspec": {
   "display_name": "Python 3",
   "language": "python",
   "name": "python3"
  },
  "language_info": {
   "codemirror_mode": {
    "name": "ipython",
    "version": 3
   },
   "file_extension": ".py",
   "mimetype": "text/x-python",
   "name": "python",
   "nbconvert_exporter": "python",
   "pygments_lexer": "ipython3",
   "version": "3.8.5"
  }
 },
 "nbformat": 4,
 "nbformat_minor": 4
}
