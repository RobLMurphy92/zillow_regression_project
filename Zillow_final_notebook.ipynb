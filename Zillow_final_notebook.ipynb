{
 "cells": [
  {
   "cell_type": "markdown",
   "metadata": {},
   "source": [
    "# Zillow Regression Project\n",
    "#### Robert Murphy\n",
    "##### June 14,2021"
   ]
  },
  {
   "cell_type": "markdown",
   "metadata": {},
   "source": [
    "-----------------------"
   ]
  },
  {
   "cell_type": "markdown",
   "metadata": {},
   "source": [
    "## Project Planning\n",
    "\n",
    "- Create a README.md which contains a data dictionary, project objectives, business goals, initial hypothesis.\n",
    "- Acquire the zillow dataset from the Codeup databse, create a function which will use a sql query and pull specific tables save this function in a acquire.py\n",
    "- Prep the zillow dataset and clean it as well, remove unwanted data, make alterations to the datatypes.\n",
    "- Change any categorical variables into a binary categorical. Create a function to simplify this process and include it in a prepare.py\n",
    "- Calculate your baseline accuracy and use this for comparing adequacy of the model.\n",
    "- Perform two statistical test: TTest, Pearson Correlation.\n",
    "- Train two different regression models.\n",
    "- Evaluate the models on the train and validate datasets.\n",
    "- Choose the model which performs the best, then run that model on the test dataset.\n",
    "- Present conclusions and main takeaways.\n",
    "\n",
    "\n",
    "\n"
   ]
  },
  {
   "cell_type": "markdown",
   "metadata": {},
   "source": [
    "### Executive Summary:\n",
    "-\n"
   ]
  },
  {
   "cell_type": "markdown",
   "metadata": {},
   "source": [
    "# Imports:"
   ]
  },
  {
   "cell_type": "code",
   "execution_count": 2,
   "metadata": {},
   "outputs": [],
   "source": [
    "import pandas as pd\n",
    "import numpy as np\n",
    "import os\n",
    "from env import host, user, password\n",
    "import seaborn as sns\n",
    "from pydataset import data\n",
    "import matplotlib.pyplot as plt\n",
    "import math\n",
    "import prepare\n",
    "import acquire\n",
    "\n",
    "from scipy import stats\n",
    "import explore\n",
    "import wrangle\n",
    "import zillow_wrangle\n",
    "from sklearn.model_selection import train_test_split\n",
    "from sklearn.impute import SimpleImputer\n",
    "from sklearn.preprocessing import LabelEncoder, OneHotEncoder, MinMaxScaler\n",
    "import decimal as d\n",
    "\n",
    "from sklearn.linear_model import LinearRegression\n",
    "from sklearn.feature_selection import RFE\n",
    "from sklearn.linear_model import LassoLars\n",
    "from sklearn.preprocessing import PolynomialFeatures\n",
    "from sklearn.linear_model import TweedieRegressor\n",
    "\n",
    "from sklearn.linear_model import LinearRegression, LassoLars\n",
    "from sklearn.preprocessing import PolynomialFeatures\n",
    "from sklearn.metrics import mean_squared_error\n",
    "from sklearn.metrics import explained_variance_score\n",
    "\n",
    "# ignore warnings\n",
    "import warnings\n",
    "warnings.filterwarnings(\"ignore\")"
   ]
  },
  {
   "cell_type": "markdown",
   "metadata": {},
   "source": [
    "# Acquire Stage:\n",
    "\n",
    "### Main Objective:\n",
    "- Connect to the Codeup DB and bring in the Zillow dataset"
   ]
  },
  {
   "cell_type": "code",
   "execution_count": 3,
   "metadata": {},
   "outputs": [
    {
     "data": {
      "text/html": [
       "<div>\n",
       "<style scoped>\n",
       "    .dataframe tbody tr th:only-of-type {\n",
       "        vertical-align: middle;\n",
       "    }\n",
       "\n",
       "    .dataframe tbody tr th {\n",
       "        vertical-align: top;\n",
       "    }\n",
       "\n",
       "    .dataframe thead th {\n",
       "        text-align: right;\n",
       "    }\n",
       "</style>\n",
       "<table border=\"1\" class=\"dataframe\">\n",
       "  <thead>\n",
       "    <tr style=\"text-align: right;\">\n",
       "      <th></th>\n",
       "      <th>parcelid</th>\n",
       "      <th>bedroomcnt</th>\n",
       "      <th>bathroomcnt</th>\n",
       "      <th>calculatedfinishedsquarefeet</th>\n",
       "      <th>taxvaluedollarcnt</th>\n",
       "      <th>yearbuilt</th>\n",
       "      <th>taxamount</th>\n",
       "      <th>fips</th>\n",
       "    </tr>\n",
       "  </thead>\n",
       "  <tbody>\n",
       "    <tr>\n",
       "      <th>0</th>\n",
       "      <td>11721753</td>\n",
       "      <td>3.0</td>\n",
       "      <td>2.0</td>\n",
       "      <td>1316.0</td>\n",
       "      <td>205123.0</td>\n",
       "      <td>1923.0</td>\n",
       "      <td>2627.48</td>\n",
       "      <td>6037.0</td>\n",
       "    </tr>\n",
       "    <tr>\n",
       "      <th>1</th>\n",
       "      <td>11289917</td>\n",
       "      <td>3.0</td>\n",
       "      <td>2.0</td>\n",
       "      <td>1458.0</td>\n",
       "      <td>136104.0</td>\n",
       "      <td>1970.0</td>\n",
       "      <td>2319.90</td>\n",
       "      <td>6037.0</td>\n",
       "    </tr>\n",
       "    <tr>\n",
       "      <th>2</th>\n",
       "      <td>11705026</td>\n",
       "      <td>2.0</td>\n",
       "      <td>1.0</td>\n",
       "      <td>1421.0</td>\n",
       "      <td>35606.0</td>\n",
       "      <td>1911.0</td>\n",
       "      <td>543.69</td>\n",
       "      <td>6037.0</td>\n",
       "    </tr>\n",
       "    <tr>\n",
       "      <th>3</th>\n",
       "      <td>14269464</td>\n",
       "      <td>4.0</td>\n",
       "      <td>3.0</td>\n",
       "      <td>2541.0</td>\n",
       "      <td>880456.0</td>\n",
       "      <td>2003.0</td>\n",
       "      <td>9819.72</td>\n",
       "      <td>6059.0</td>\n",
       "    </tr>\n",
       "    <tr>\n",
       "      <th>4</th>\n",
       "      <td>11446756</td>\n",
       "      <td>3.0</td>\n",
       "      <td>2.0</td>\n",
       "      <td>1491.0</td>\n",
       "      <td>107110.0</td>\n",
       "      <td>1955.0</td>\n",
       "      <td>1399.27</td>\n",
       "      <td>6037.0</td>\n",
       "    </tr>\n",
       "  </tbody>\n",
       "</table>\n",
       "</div>"
      ],
      "text/plain": [
       "   parcelid  bedroomcnt  bathroomcnt  calculatedfinishedsquarefeet  \\\n",
       "0  11721753         3.0          2.0                        1316.0   \n",
       "1  11289917         3.0          2.0                        1458.0   \n",
       "2  11705026         2.0          1.0                        1421.0   \n",
       "3  14269464         4.0          3.0                        2541.0   \n",
       "4  11446756         3.0          2.0                        1491.0   \n",
       "\n",
       "   taxvaluedollarcnt  yearbuilt  taxamount    fips  \n",
       "0           205123.0     1923.0    2627.48  6037.0  \n",
       "1           136104.0     1970.0    2319.90  6037.0  \n",
       "2            35606.0     1911.0     543.69  6037.0  \n",
       "3           880456.0     2003.0    9819.72  6059.0  \n",
       "4           107110.0     1955.0    1399.27  6037.0  "
      ]
     },
     "execution_count": 3,
     "metadata": {},
     "output_type": "execute_result"
    }
   ],
   "source": [
    "#created df.\n",
    "zillow_df = acquire.get_zillow()\n",
    "zillow_df.head()"
   ]
  },
  {
   "cell_type": "code",
   "execution_count": 4,
   "metadata": {},
   "outputs": [
    {
     "data": {
      "text/html": [
       "<div>\n",
       "<style scoped>\n",
       "    .dataframe tbody tr th:only-of-type {\n",
       "        vertical-align: middle;\n",
       "    }\n",
       "\n",
       "    .dataframe tbody tr th {\n",
       "        vertical-align: top;\n",
       "    }\n",
       "\n",
       "    .dataframe thead th {\n",
       "        text-align: right;\n",
       "    }\n",
       "</style>\n",
       "<table border=\"1\" class=\"dataframe\">\n",
       "  <thead>\n",
       "    <tr style=\"text-align: right;\">\n",
       "      <th></th>\n",
       "      <th>parcelid</th>\n",
       "      <th>bedroomcnt</th>\n",
       "      <th>bathroomcnt</th>\n",
       "      <th>calculatedfinishedsquarefeet</th>\n",
       "      <th>taxvaluedollarcnt</th>\n",
       "      <th>yearbuilt</th>\n",
       "      <th>taxamount</th>\n",
       "      <th>fips</th>\n",
       "    </tr>\n",
       "  </thead>\n",
       "  <tbody>\n",
       "    <tr>\n",
       "      <th>0</th>\n",
       "      <td>11721753</td>\n",
       "      <td>3.0</td>\n",
       "      <td>2.0</td>\n",
       "      <td>1316.0</td>\n",
       "      <td>205123.0</td>\n",
       "      <td>1923.0</td>\n",
       "      <td>2627.48</td>\n",
       "      <td>6037.0</td>\n",
       "    </tr>\n",
       "    <tr>\n",
       "      <th>1</th>\n",
       "      <td>11289917</td>\n",
       "      <td>3.0</td>\n",
       "      <td>2.0</td>\n",
       "      <td>1458.0</td>\n",
       "      <td>136104.0</td>\n",
       "      <td>1970.0</td>\n",
       "      <td>2319.90</td>\n",
       "      <td>6037.0</td>\n",
       "    </tr>\n",
       "    <tr>\n",
       "      <th>2</th>\n",
       "      <td>11705026</td>\n",
       "      <td>2.0</td>\n",
       "      <td>1.0</td>\n",
       "      <td>1421.0</td>\n",
       "      <td>35606.0</td>\n",
       "      <td>1911.0</td>\n",
       "      <td>543.69</td>\n",
       "      <td>6037.0</td>\n",
       "    </tr>\n",
       "    <tr>\n",
       "      <th>3</th>\n",
       "      <td>14269464</td>\n",
       "      <td>4.0</td>\n",
       "      <td>3.0</td>\n",
       "      <td>2541.0</td>\n",
       "      <td>880456.0</td>\n",
       "      <td>2003.0</td>\n",
       "      <td>9819.72</td>\n",
       "      <td>6059.0</td>\n",
       "    </tr>\n",
       "    <tr>\n",
       "      <th>4</th>\n",
       "      <td>11446756</td>\n",
       "      <td>3.0</td>\n",
       "      <td>2.0</td>\n",
       "      <td>1491.0</td>\n",
       "      <td>107110.0</td>\n",
       "      <td>1955.0</td>\n",
       "      <td>1399.27</td>\n",
       "      <td>6037.0</td>\n",
       "    </tr>\n",
       "  </tbody>\n",
       "</table>\n",
       "</div>"
      ],
      "text/plain": [
       "   parcelid  bedroomcnt  bathroomcnt  calculatedfinishedsquarefeet  \\\n",
       "0  11721753         3.0          2.0                        1316.0   \n",
       "1  11289917         3.0          2.0                        1458.0   \n",
       "2  11705026         2.0          1.0                        1421.0   \n",
       "3  14269464         4.0          3.0                        2541.0   \n",
       "4  11446756         3.0          2.0                        1491.0   \n",
       "\n",
       "   taxvaluedollarcnt  yearbuilt  taxamount    fips  \n",
       "0           205123.0     1923.0    2627.48  6037.0  \n",
       "1           136104.0     1970.0    2319.90  6037.0  \n",
       "2            35606.0     1911.0     543.69  6037.0  \n",
       "3           880456.0     2003.0    9819.72  6059.0  \n",
       "4           107110.0     1955.0    1399.27  6037.0  "
      ]
     },
     "execution_count": 4,
     "metadata": {},
     "output_type": "execute_result"
    }
   ],
   "source": [
    "# initial thoughts: looking at some fields which can have dummies generated, taxvalue and tax amount need to be changed to int values.  \n",
    "# Fips can be changed to column stating county and state.\n",
    "# initial mvp just utilizes four fields. Can change parcel id to index, use this to see if duplicate parcels in df.\n",
    "zillow_df.head()"
   ]
  },
  {
   "cell_type": "code",
   "execution_count": 5,
   "metadata": {},
   "outputs": [
    {
     "name": "stdout",
     "output_type": "stream",
     "text": [
      "<class 'pandas.core.frame.DataFrame'>\n",
      "RangeIndex: 28418 entries, 0 to 28417\n",
      "Data columns (total 8 columns):\n",
      " #   Column                        Non-Null Count  Dtype  \n",
      "---  ------                        --------------  -----  \n",
      " 0   parcelid                      28418 non-null  int64  \n",
      " 1   bedroomcnt                    28418 non-null  float64\n",
      " 2   bathroomcnt                   28418 non-null  float64\n",
      " 3   calculatedfinishedsquarefeet  28345 non-null  float64\n",
      " 4   taxvaluedollarcnt             28417 non-null  float64\n",
      " 5   yearbuilt                     28322 non-null  float64\n",
      " 6   taxamount                     28417 non-null  float64\n",
      " 7   fips                          28418 non-null  float64\n",
      "dtypes: float64(7), int64(1)\n",
      "memory usage: 1.7 MB\n"
     ]
    }
   ],
   "source": [
    "#looking into the data types. Can see also some fields contain null values.\n",
    "zillow_df.info()"
   ]
  },
  {
   "cell_type": "code",
   "execution_count": 6,
   "metadata": {},
   "outputs": [
    {
     "data": {
      "text/plain": [
       "(28418, 8)"
      ]
     },
     "execution_count": 6,
     "metadata": {},
     "output_type": "execute_result"
    }
   ],
   "source": [
    "# shape of our df is 28418 records and 8 fields\n",
    "zillow_df.shape"
   ]
  },
  {
   "cell_type": "code",
   "execution_count": 7,
   "metadata": {},
   "outputs": [
    {
     "data": {
      "text/html": [
       "<div>\n",
       "<style scoped>\n",
       "    .dataframe tbody tr th:only-of-type {\n",
       "        vertical-align: middle;\n",
       "    }\n",
       "\n",
       "    .dataframe tbody tr th {\n",
       "        vertical-align: top;\n",
       "    }\n",
       "\n",
       "    .dataframe thead th {\n",
       "        text-align: right;\n",
       "    }\n",
       "</style>\n",
       "<table border=\"1\" class=\"dataframe\">\n",
       "  <thead>\n",
       "    <tr style=\"text-align: right;\">\n",
       "      <th></th>\n",
       "      <th>count</th>\n",
       "      <th>mean</th>\n",
       "      <th>std</th>\n",
       "      <th>min</th>\n",
       "      <th>25%</th>\n",
       "      <th>50%</th>\n",
       "      <th>75%</th>\n",
       "      <th>max</th>\n",
       "    </tr>\n",
       "  </thead>\n",
       "  <tbody>\n",
       "    <tr>\n",
       "      <th>parcelid</th>\n",
       "      <td>28418.0</td>\n",
       "      <td>1.307361e+07</td>\n",
       "      <td>3.747577e+06</td>\n",
       "      <td>10711855.00</td>\n",
       "      <td>11523237.25</td>\n",
       "      <td>12611531.0</td>\n",
       "      <td>14163710.25</td>\n",
       "      <td>1.676878e+08</td>\n",
       "    </tr>\n",
       "    <tr>\n",
       "      <th>bedroomcnt</th>\n",
       "      <td>28418.0</td>\n",
       "      <td>3.298086e+00</td>\n",
       "      <td>9.547586e-01</td>\n",
       "      <td>0.00</td>\n",
       "      <td>3.00</td>\n",
       "      <td>3.0</td>\n",
       "      <td>4.00</td>\n",
       "      <td>1.200000e+01</td>\n",
       "    </tr>\n",
       "    <tr>\n",
       "      <th>bathroomcnt</th>\n",
       "      <td>28418.0</td>\n",
       "      <td>2.311070e+00</td>\n",
       "      <td>1.017817e+00</td>\n",
       "      <td>0.00</td>\n",
       "      <td>2.00</td>\n",
       "      <td>2.0</td>\n",
       "      <td>3.00</td>\n",
       "      <td>1.100000e+01</td>\n",
       "    </tr>\n",
       "    <tr>\n",
       "      <th>calculatedfinishedsquarefeet</th>\n",
       "      <td>28345.0</td>\n",
       "      <td>1.931781e+03</td>\n",
       "      <td>1.013657e+03</td>\n",
       "      <td>240.00</td>\n",
       "      <td>1276.00</td>\n",
       "      <td>1669.0</td>\n",
       "      <td>2319.00</td>\n",
       "      <td>3.564000e+04</td>\n",
       "    </tr>\n",
       "    <tr>\n",
       "      <th>taxvaluedollarcnt</th>\n",
       "      <td>28417.0</td>\n",
       "      <td>5.332912e+05</td>\n",
       "      <td>7.063144e+05</td>\n",
       "      <td>1000.00</td>\n",
       "      <td>198412.00</td>\n",
       "      <td>380733.0</td>\n",
       "      <td>630000.00</td>\n",
       "      <td>2.385837e+07</td>\n",
       "    </tr>\n",
       "    <tr>\n",
       "      <th>yearbuilt</th>\n",
       "      <td>28322.0</td>\n",
       "      <td>1.963908e+03</td>\n",
       "      <td>2.307474e+01</td>\n",
       "      <td>1878.00</td>\n",
       "      <td>1950.00</td>\n",
       "      <td>1961.0</td>\n",
       "      <td>1980.00</td>\n",
       "      <td>2.016000e+03</td>\n",
       "    </tr>\n",
       "    <tr>\n",
       "      <th>taxamount</th>\n",
       "      <td>28417.0</td>\n",
       "      <td>6.486383e+03</td>\n",
       "      <td>8.209046e+03</td>\n",
       "      <td>51.26</td>\n",
       "      <td>2690.92</td>\n",
       "      <td>4703.7</td>\n",
       "      <td>7495.44</td>\n",
       "      <td>2.767978e+05</td>\n",
       "    </tr>\n",
       "    <tr>\n",
       "      <th>fips</th>\n",
       "      <td>28418.0</td>\n",
       "      <td>6.050004e+03</td>\n",
       "      <td>2.191571e+01</td>\n",
       "      <td>6037.00</td>\n",
       "      <td>6037.00</td>\n",
       "      <td>6037.0</td>\n",
       "      <td>6059.00</td>\n",
       "      <td>6.111000e+03</td>\n",
       "    </tr>\n",
       "  </tbody>\n",
       "</table>\n",
       "</div>"
      ],
      "text/plain": [
       "                                count          mean           std  \\\n",
       "parcelid                      28418.0  1.307361e+07  3.747577e+06   \n",
       "bedroomcnt                    28418.0  3.298086e+00  9.547586e-01   \n",
       "bathroomcnt                   28418.0  2.311070e+00  1.017817e+00   \n",
       "calculatedfinishedsquarefeet  28345.0  1.931781e+03  1.013657e+03   \n",
       "taxvaluedollarcnt             28417.0  5.332912e+05  7.063144e+05   \n",
       "yearbuilt                     28322.0  1.963908e+03  2.307474e+01   \n",
       "taxamount                     28417.0  6.486383e+03  8.209046e+03   \n",
       "fips                          28418.0  6.050004e+03  2.191571e+01   \n",
       "\n",
       "                                      min          25%         50%  \\\n",
       "parcelid                      10711855.00  11523237.25  12611531.0   \n",
       "bedroomcnt                           0.00         3.00         3.0   \n",
       "bathroomcnt                          0.00         2.00         2.0   \n",
       "calculatedfinishedsquarefeet       240.00      1276.00      1669.0   \n",
       "taxvaluedollarcnt                 1000.00    198412.00    380733.0   \n",
       "yearbuilt                         1878.00      1950.00      1961.0   \n",
       "taxamount                           51.26      2690.92      4703.7   \n",
       "fips                              6037.00      6037.00      6037.0   \n",
       "\n",
       "                                      75%           max  \n",
       "parcelid                      14163710.25  1.676878e+08  \n",
       "bedroomcnt                           4.00  1.200000e+01  \n",
       "bathroomcnt                          3.00  1.100000e+01  \n",
       "calculatedfinishedsquarefeet      2319.00  3.564000e+04  \n",
       "taxvaluedollarcnt               630000.00  2.385837e+07  \n",
       "yearbuilt                         1980.00  2.016000e+03  \n",
       "taxamount                         7495.44  2.767978e+05  \n",
       "fips                              6059.00  6.111000e+03  "
      ]
     },
     "execution_count": 7,
     "metadata": {},
     "output_type": "execute_result"
    }
   ],
   "source": [
    "#### quick looks at the stat ####\n",
    "# max baths and beds are 11 and 12.\n",
    "# lowest taxvalue is 1000, max is 238583700\n",
    "#earliest house was built in 1878.\n",
    "\n",
    "zillow_df.describe().T"
   ]
  },
  {
   "cell_type": "markdown",
   "metadata": {},
   "source": [
    "### Main Takeaways:\n",
    "- Initial shape is 28418 records and 8 fields.\n",
    "- A few of the fields contain null values.\n",
    "- Looking at initial stats, seems like there is some potential outliers. \n",
    "- Implmented a sql query within a function which brings in dataframe filtered to hot months.\n",
    "- Data Types are all numerical but Bedroomcnt,bathroomcnt and fips can be classified as categorical."
   ]
  },
  {
   "cell_type": "markdown",
   "metadata": {},
   "source": [
    "--------------------------------------"
   ]
  },
  {
   "cell_type": "markdown",
   "metadata": {},
   "source": [
    "# Prepare Stage:"
   ]
  },
  {
   "cell_type": "markdown",
   "metadata": {},
   "source": [
    "### Main Objective:\n",
    "\n",
    "#### House cleaning.\n",
    "- Changed parcelid to the index.\n",
    "- Dropped duplicate values and columns.\n",
    "- Found records containing empty values and replaced with NaN, then dropped the NaN.\n",
    "- Converted several fields from object based binary categorical to binary utilizing numerics categorical.\n",
    "- Created columns which are binned, changed the values into 0 and 1 numeric based categorical.\n",
    "- Renamed several columns.\n",
    "- Created a function which does the above.\n"
   ]
  },
  {
   "cell_type": "code",
   "execution_count": 8,
   "metadata": {},
   "outputs": [],
   "source": [
    "#utilizing funcitn within prepare.py to prep data.\n",
    "zillow = prepare.prep_zillow(zillow_df)"
   ]
  },
  {
   "cell_type": "code",
   "execution_count": 9,
   "metadata": {},
   "outputs": [
    {
     "data": {
      "text/html": [
       "<div>\n",
       "<style scoped>\n",
       "    .dataframe tbody tr th:only-of-type {\n",
       "        vertical-align: middle;\n",
       "    }\n",
       "\n",
       "    .dataframe tbody tr th {\n",
       "        vertical-align: top;\n",
       "    }\n",
       "\n",
       "    .dataframe thead th {\n",
       "        text-align: right;\n",
       "    }\n",
       "</style>\n",
       "<table border=\"1\" class=\"dataframe\">\n",
       "  <thead>\n",
       "    <tr style=\"text-align: right;\">\n",
       "      <th></th>\n",
       "      <th>total_squareft</th>\n",
       "      <th>assessment_value</th>\n",
       "      <th>three_or_less_bedrooms</th>\n",
       "      <th>four_or_more_bedrooms</th>\n",
       "      <th>three_or_more_bathrooms</th>\n",
       "      <th>two_half_or_less_bathrooms</th>\n",
       "    </tr>\n",
       "    <tr>\n",
       "      <th>parcelid</th>\n",
       "      <th></th>\n",
       "      <th></th>\n",
       "      <th></th>\n",
       "      <th></th>\n",
       "      <th></th>\n",
       "      <th></th>\n",
       "    </tr>\n",
       "  </thead>\n",
       "  <tbody>\n",
       "    <tr>\n",
       "      <th>11721753</th>\n",
       "      <td>1316.0</td>\n",
       "      <td>205123.0</td>\n",
       "      <td>1</td>\n",
       "      <td>0</td>\n",
       "      <td>1</td>\n",
       "      <td>0</td>\n",
       "    </tr>\n",
       "    <tr>\n",
       "      <th>11289917</th>\n",
       "      <td>1458.0</td>\n",
       "      <td>136104.0</td>\n",
       "      <td>1</td>\n",
       "      <td>0</td>\n",
       "      <td>1</td>\n",
       "      <td>0</td>\n",
       "    </tr>\n",
       "    <tr>\n",
       "      <th>11705026</th>\n",
       "      <td>1421.0</td>\n",
       "      <td>35606.0</td>\n",
       "      <td>1</td>\n",
       "      <td>0</td>\n",
       "      <td>0</td>\n",
       "      <td>1</td>\n",
       "    </tr>\n",
       "    <tr>\n",
       "      <th>14269464</th>\n",
       "      <td>2541.0</td>\n",
       "      <td>880456.0</td>\n",
       "      <td>0</td>\n",
       "      <td>1</td>\n",
       "      <td>1</td>\n",
       "      <td>0</td>\n",
       "    </tr>\n",
       "    <tr>\n",
       "      <th>11446756</th>\n",
       "      <td>1491.0</td>\n",
       "      <td>107110.0</td>\n",
       "      <td>1</td>\n",
       "      <td>0</td>\n",
       "      <td>1</td>\n",
       "      <td>0</td>\n",
       "    </tr>\n",
       "  </tbody>\n",
       "</table>\n",
       "</div>"
      ],
      "text/plain": [
       "          total_squareft  assessment_value  three_or_less_bedrooms  \\\n",
       "parcelid                                                             \n",
       "11721753          1316.0          205123.0                       1   \n",
       "11289917          1458.0          136104.0                       1   \n",
       "11705026          1421.0           35606.0                       1   \n",
       "14269464          2541.0          880456.0                       0   \n",
       "11446756          1491.0          107110.0                       1   \n",
       "\n",
       "          four_or_more_bedrooms  three_or_more_bathrooms  \\\n",
       "parcelid                                                   \n",
       "11721753                      0                        1   \n",
       "11289917                      0                        1   \n",
       "11705026                      0                        0   \n",
       "14269464                      1                        1   \n",
       "11446756                      0                        1   \n",
       "\n",
       "          two_half_or_less_bathrooms  \n",
       "parcelid                              \n",
       "11721753                           0  \n",
       "11289917                           0  \n",
       "11705026                           1  \n",
       "14269464                           0  \n",
       "11446756                           0  "
      ]
     },
     "execution_count": 9,
     "metadata": {},
     "output_type": "execute_result"
    }
   ],
   "source": [
    "#renamed columns and added in additional features.\n",
    "zillow.head()"
   ]
  },
  {
   "cell_type": "code",
   "execution_count": 10,
   "metadata": {},
   "outputs": [
    {
     "name": "stdout",
     "output_type": "stream",
     "text": [
      "train -> (14100, 6)\n",
      "validate -> (6043, 6)\n",
      "test -> (5036, 6)\n"
     ]
    }
   ],
   "source": [
    "#splitting into a train, validate and test dataset.\n",
    "train, validate, test = wrangle.split_continuous(zillow)"
   ]
  },
  {
   "cell_type": "markdown",
   "metadata": {},
   "source": [
    "### Main Takeaway:\n",
    "\n",
    "- Doing house cleaning: dropping duplciates, dropping nans, and set parcelid to index.\n",
    "- DF shape now 25179 records and 4 fields\n",
    "- Calculated outliers for each field, dropped these outliers.\n",
    "- Made some simple charts to visualize outliers\n",
    "- split the zillow df into a train, validate, test datasets."
   ]
  },
  {
   "cell_type": "markdown",
   "metadata": {},
   "source": [
    "----------------------"
   ]
  },
  {
   "cell_type": "markdown",
   "metadata": {},
   "source": [
    "# Explore:"
   ]
  },
  {
   "cell_type": "markdown",
   "metadata": {},
   "source": [
    "### Data Exploration\n",
    "\n",
    "##### - Goal: univariate, bivariate, multivariate exploration. \n",
    "##### - Two statistical analysis.\n",
    "##### - Target assessment_value  is continuous, this is a regression problem.\n",
    "\n",
    "----------------------------------------------\n"
   ]
  },
  {
   "cell_type": "code",
   "execution_count": 11,
   "metadata": {},
   "outputs": [],
   "source": [
    "#Specifiying quantative and categorical features\n",
    "cat_vars = ['bedroomcnt', 'bathroomcnt','three_or_less_bedrooms', 'four_or_more_bedrooms', 'three_or_more_bathrooms', 'two_half_or_less_bathrooms']\n",
    "quant_vars = ['total_squareft','assessment_value']"
   ]
  },
  {
   "cell_type": "code",
   "execution_count": 12,
   "metadata": {},
   "outputs": [
    {
     "data": {
      "text/plain": [
       "<seaborn.axisgrid.FacetGrid at 0x7fb7dddcf9a0>"
      ]
     },
     "execution_count": 12,
     "metadata": {},
     "output_type": "execute_result"
    },
    {
     "data": {
      "image/png": "[encoded data removed]",
      "text/plain": [
       "<Figure size 360x360 with 1 Axes>"
      ]
     },
     "metadata": {
      "needs_background": "light"
     },
     "output_type": "display_data"
    }
   ],
   "source": [
    "# there isnt really a great visible trend, an assumption can be made whiich as totalsquareft increase assessment_value increases.\n",
    "sns.lmplot(x = 'assessment_value', y = 'total_squareft' , data = train, line_kws={'color': 'red'})"
   ]
  },
  {
   "cell_type": "markdown",
   "metadata": {},
   "source": [
    "### Lmplot Main Takeaway:\n",
    "\n",
    "- With the amount of data within the DF, the chart is very cluttered with points. You can barely make out a trend which shows as total square ft increase so does the assessment value.\n",
    "- This makes sense, the larger the square footage the greater the cost of the house. However this can be misleading without additional information. Areas can deplete a homes value even if the house is larger and also the age can result in a larger house value also being less. So remember to keep this in mind."
   ]
  },
  {
   "cell_type": "code",
   "execution_count": 13,
   "metadata": {
    "jupyter": {
     "source_hidden": true
    }
   },
   "outputs": [
    {
     "data": {
      "text/plain": [
       "<AxesSubplot:xlabel='two_half_or_less_bathrooms', ylabel='assessment_value'>"
      ]
     },
     "execution_count": 13,
     "metadata": {},
     "output_type": "execute_result"
    },
    {
     "data": {
      "image/png": "[encoded data removed]",
      "text/plain": [
       "<Figure size 432x288 with 1 Axes>"
      ]
     },
     "metadata": {
      "needs_background": "light"
     },
     "output_type": "display_data"
    }
   ],
   "source": [
    "# can see that the tow and half baths or less have the max assessment_value\n",
    "sns.barplot(x='two_half_or_less_bathrooms', y='assessment_value', data=train)"
   ]
  },
  {
   "cell_type": "code",
   "execution_count": 14,
   "metadata": {
    "jupyter": {
     "source_hidden": true
    }
   },
   "outputs": [
    {
     "data": {
      "text/plain": [
       "<AxesSubplot:xlabel='three_or_less_bedrooms', ylabel='assessment_value'>"
      ]
     },
     "execution_count": 14,
     "metadata": {},
     "output_type": "execute_result"
    },
    {
     "data": {
      "image/png": "[encoded data removed]",
      "text/plain": [
       "<Figure size 432x288 with 1 Axes>"
      ]
     },
     "metadata": {
      "needs_background": "light"
     },
     "output_type": "display_data"
    }
   ],
   "source": [
    "#greater than 3 bedrooms have the max assessment value.\n",
    "sns.barplot(x='three_or_less_bedrooms', y='assessment_value', data=train)"
   ]
  },
  {
   "cell_type": "markdown",
   "metadata": {},
   "source": [
    "#### Barplot takeaways:\n",
    "- Can clearly see there is a relatiinship between the number bedrooms and assessment value. \n",
    "- The same can be interpreted by examining bathroom count within a home, those who do not have 2.5 baths or less had higher assessment values.\n",
    "    "
   ]
  },
  {
   "cell_type": "markdown",
   "metadata": {},
   "source": [
    "### Utilizing Heat Map to see which features correlate strongest with the target (assessment_value)"
   ]
  },
  {
   "cell_type": "code",
   "execution_count": 15,
   "metadata": {},
   "outputs": [
    {
     "data": {
      "text/plain": [
       "<AxesSubplot:title={'center':'Feautures  Correlating with assessment_value'}>"
      ]
     },
     "execution_count": 15,
     "metadata": {},
     "output_type": "execute_result"
    },
    {
     "data": {
      "image/png": "[encoded data removed]",
      "text/plain": [
       "<Figure size 1008x864 with 2 Axes>"
      ]
     },
     "metadata": {
      "needs_background": "light"
     },
     "output_type": "display_data"
    }
   ],
   "source": [
    "#strongest correlation is total_squareft, four or more bedrooms, three or more bathrooms\n",
    "explore.get_heatmap(train, 'assessment_value')"
   ]
  },
  {
   "cell_type": "code",
   "execution_count": null,
   "metadata": {},
   "outputs": [],
   "source": []
  },
  {
   "cell_type": "markdown",
   "metadata": {},
   "source": [
    "## Statistical Tests / Hypothesis Testing:\n",
    "\n",
    "- Hypothesis Null1: There is no relationship between the square footage of a house and assessment value. Possibly as square foot increase so does the assessment value. Contin vs contin Correlation Test.\n",
    "- Hypothesis Null2: There is no difference in the assessment values for those who have four or more bedrooms than those who dont. Categorical and continous \n"
   ]
  },
  {
   "cell_type": "code",
   "execution_count": 16,
   "metadata": {},
   "outputs": [
    {
     "name": "stdout",
     "output_type": "stream",
     "text": [
      " Pearson correlation coefficient is 0.48091471407251496, the corresponding p value is 0.0.\n",
      " We reject the null, and accept HA: there is a relationship between total_squareft and assessment_value\n"
     ]
    },
    {
     "data": {
      "image/png": "[encoded data removed]",
      "text/plain": [
       "<Figure size 432x288 with 1 Axes>"
      ]
     },
     "metadata": {
      "needs_background": "light"
     },
     "output_type": "display_data"
    }
   ],
   "source": [
    "#Pearson Correlation\n",
    "\n",
    "## Null: There is no relationship between the square footage of a house and assessment value. \n",
    "   \n",
    "alpha = 0.05\n",
    "\n",
    "corr, p = stats.pearsonr(zillow.total_squareft, zillow.assessment_value)\n",
    "print(f' Pearson correlation coefficient is {corr}, the corresponding p value is {p}.')\n",
    "\n",
    "\n",
    "zillow.plot.scatter('total_squareft', 'assessment_value')\n",
    "plt.title('assessment_value vs total_squareft')\n",
    "\n",
    "if p < 0.05:\n",
    "    print(' We reject the null, and accept HA: there is a relationship between total_squareft and assessment_value')\n",
    "else:\n",
    "    print(' We accept null there is no relationship between total_squareft and assessment_value')\n"
   ]
  },
  {
   "cell_type": "code",
   "execution_count": 17,
   "metadata": {},
   "outputs": [
    {
     "name": "stdout",
     "output_type": "stream",
     "text": [
      "\n",
      "statistic = 25.9369\n",
      "p_value = 0.0000\n",
      "\n",
      "We can reject the null hypothesis that There is no difference in the assessment values for those who have four or more bedrooms than those who dont.\n"
     ]
    }
   ],
   "source": [
    "#TTest\n",
    "# make a subset \n",
    "x1 = train[train.four_or_more_bedrooms == 1].assessment_value\n",
    "x2 = train[train.four_or_more_bedrooms == 0].assessment_value\n",
    "\n",
    "\n",
    "# run a 2 sample, 2 tail t-test\n",
    "t_stat, p = stats.ttest_ind(x1, x2)\n",
    "\n",
    "print(f'\\nstatistic = {t_stat:.4f}')\n",
    "print(f'p_value = {p:.4f}')\n",
    "\n",
    "# set alpha\n",
    "alpha = 0.05\n",
    "\n",
    "null_hypothesis = \"There is no difference in the assessment values for those who have four or more bedrooms than those who dont.\"\n",
    "\n",
    "if p < alpha:\n",
    "    print(f'\\nWe can reject the null hypothesis that', null_hypothesis)\n",
    "else:\n",
    "    print(f'\\nWe fail to reject the null hypothesis.')"
   ]
  },
  {
   "cell_type": "code",
   "execution_count": 18,
   "metadata": {},
   "outputs": [
    {
     "data": {
      "text/plain": [
       "<AxesSubplot:xlabel='four_or_more_bedrooms', ylabel='assessment_value'>"
      ]
     },
     "execution_count": 18,
     "metadata": {},
     "output_type": "execute_result"
    },
    {
     "data": {
      "image/png": "[encoded data removed]",
      "text/plain": [
       "<Figure size 432x288 with 1 Axes>"
      ]
     },
     "metadata": {
      "needs_background": "light"
     },
     "output_type": "display_data"
    }
   ],
   "source": [
    "sns.barplot(x='four_or_more_bedrooms', y='assessment_value', data=train)"
   ]
  },
  {
   "cell_type": "markdown",
   "metadata": {},
   "source": [
    "### Main Takeaways:\n",
    "- Heat mapp indicates correlations are fairly decent. Going to utilize 5 features within the model.\n",
    "- We rejected the Null hypothesis for each test.\n",
    "- There is a difference in assessment values for those who have homes with >= 4 bedrooms.\n",
    "- Based on the pearson coefficent and p value, we can say that there is a relationship between totalsquare_ft and assessment_value.\n"
   ]
  },
  {
   "cell_type": "markdown",
   "metadata": {},
   "source": [
    "--------------------------"
   ]
  },
  {
   "cell_type": "markdown",
   "metadata": {},
   "source": [
    "# Modeling:"
   ]
  },
  {
   "cell_type": "markdown",
   "metadata": {},
   "source": [
    "#### About the initial baseline:\n",
    "\n",
    "- 1.) Need to know how well we can estimate (predict) the assessment_value without using any features. Need to look at the mean or the median. \n",
    "- 2.) Try both the mean and the median, see which performs best, and set that evaluation metric value as our baseline performance to beat.\n"
   ]
  },
  {
   "cell_type": "code",
   "execution_count": 19,
   "metadata": {},
   "outputs": [],
   "source": [
    "#Seperating into features and target to run models. \n",
    "X_train, y_train, X_validate, y_validate, X_test, y_test = zillow_wrangle.train_validate_test(zillow, 'assessment_value', None)"
   ]
  },
  {
   "cell_type": "code",
   "execution_count": 20,
   "metadata": {},
   "outputs": [
    {
     "data": {
      "image/png": "[encoded data removed]",
      "text/plain": [
       "<Figure size 432x288 with 1 Axes>"
      ]
     },
     "metadata": {
      "needs_background": "light"
     },
     "output_type": "display_data"
    }
   ],
   "source": [
    "# Skewed right but observations greater than 30 and within 4000 dollars of each.\n",
    "plt.hist(y_train)\n",
    "plt.xlabel(\"Assessment_value\")\n",
    "plt.ylabel(\"count\")\n",
    "plt.show()"
   ]
  },
  {
   "cell_type": "code",
   "execution_count": 21,
   "metadata": {},
   "outputs": [
    {
     "data": {
      "text/plain": [
       "(393959.19141843973, 350085.0)"
      ]
     },
     "execution_count": 21,
     "metadata": {},
     "output_type": "execute_result"
    }
   ],
   "source": [
    "# mean and median are farily similar.\n",
    "y_train.mean(), y_train.median()"
   ]
  },
  {
   "cell_type": "markdown",
   "metadata": {},
   "source": [
    "### Deciding wether to utilize mean or median for the baseline"
   ]
  },
  {
   "cell_type": "code",
   "execution_count": 22,
   "metadata": {},
   "outputs": [
    {
     "name": "stdout",
     "output_type": "stream",
     "text": [
      "RMSE using Mean\n",
      "Train/In-Sample:  263663.92 \n",
      "Validate/Out-of-Sample:  263244.25\n"
     ]
    }
   ],
   "source": [
    "# y_train and y_validate have to be dataframes to append the new columns with predicted values. \n",
    "y_train = pd.DataFrame(y_train)\n",
    "y_validate = pd.DataFrame(y_validate)\n",
    "\n",
    "# 1. Predict assessment_value_pred_mean\n",
    "assessment_value_pred_mean = y_train.assessment_value.mean()\n",
    "y_train['assessment_value_pred_mean'] = assessment_value_pred_mean \n",
    "y_validate['assessment_value_pred_mean'] = assessment_value_pred_mean \n",
    "\n",
    "# 2. compute assessment_value_pred_median\n",
    "assessment_value_median = y_train.assessment_value.median()\n",
    "y_train['assessment_value_median'] = assessment_value_median\n",
    "y_validate['assessment_value_median'] = assessment_value_median\n",
    "\n",
    "# 3. RMSE of assessment_value_pred_mean\n",
    "rmse_train = mean_squared_error(y_train.assessment_value, y_train.assessment_value_pred_mean) ** 0.5\n",
    "rmse_validate = mean_squared_error(y_validate.assessment_value, y_validate.assessment_value_pred_mean) ** 0.5\n",
    "\n",
    "print(\"RMSE using Mean\\nTrain/In-Sample: \", round(rmse_train, 2), \n",
    "      \"\\nValidate/Out-of-Sample: \", round(rmse_validate, 2))"
   ]
  },
  {
   "cell_type": "code",
   "execution_count": 23,
   "metadata": {},
   "outputs": [
    {
     "name": "stdout",
     "output_type": "stream",
     "text": [
      "RMSE using Median\n",
      "Train/In-Sample:  267289.37 \n",
      "Validate/Out-of-Sample:  263244.25\n"
     ]
    }
   ],
   "source": [
    "# 4. RMSE of assessment_pred_median\n",
    "rmse_train = mean_squared_error(y_train.assessment_value, y_train.assessment_value_median) ** .5\n",
    "mse_validate = mean_squared_error(y_validate.assessment_value, y_validate.assessment_value_median) ** .5\n",
    "print(\"RMSE using Median\\nTrain/In-Sample: \", round(rmse_train, 2), \n",
    "      \"\\nValidate/Out-of-Sample: \", round(rmse_validate, 2))"
   ]
  },
  {
   "cell_type": "markdown",
   "metadata": {},
   "source": [
    "### Baseline Prediction"
   ]
  },
  {
   "cell_type": "code",
   "execution_count": 24,
   "metadata": {},
   "outputs": [],
   "source": [
    "# Baseline prediction will utilize mean, RMSE value for mean was better than median.\n",
    "# Have stated our baseline accuracy for the model to beatr in order to be considered valid.\n",
    "baseline = y_train.assessment_value.mean()\n",
    "y_train['baseline'] = baseline"
   ]
  },
  {
   "cell_type": "code",
   "execution_count": 25,
   "metadata": {},
   "outputs": [
    {
     "name": "stdout",
     "output_type": "stream",
     "text": [
      "Train RMSE Baseline 263663.9232487312.\n"
     ]
    }
   ],
   "source": [
    "# Baseline RMSE calculation.\n",
    "baseline_RMSE = math.sqrt(mean_squared_error(y_train.assessment_value, y_train.baseline))\n",
    "print(f'Train RMSE Baseline {baseline_RMSE}.')"
   ]
  },
  {
   "cell_type": "markdown",
   "metadata": {},
   "source": [
    "### Model 1: Linear Regression"
   ]
  },
  {
   "cell_type": "code",
   "execution_count": 26,
   "metadata": {},
   "outputs": [
    {
     "name": "stdout",
     "output_type": "stream",
     "text": [
      "RMSE for OLS using LinearRegression\n",
      "Training/In-Sample:  230956.06167951802 \n",
      "Validation/Out-of-Sample:  227968.27728868957\n",
      "Explained Variance Linear Regression Model =  0.233\n"
     ]
    }
   ],
   "source": [
    "# create the model object\n",
    "linear_model = LinearRegression(normalize=True)\n",
    "\n",
    "# fit the model to our training data. We must specify the column in y_train, \n",
    "# since we have converted it to a dataframe from a series! \n",
    "linear_model.fit(X_train, y_train.assessment_value)\n",
    "\n",
    "# predict train\n",
    "y_train['assessment_value_predict_lm'] = linear_model.predict(X_train)\n",
    "\n",
    "# evaluate: rmse\n",
    "rmse_train_lr = mean_squared_error(y_train.assessment_value, y_train.assessment_value_predict_lm)**(1/2)\n",
    "\n",
    "# predict validate\n",
    "y_validate['assessment_value_predict_lm'] = linear_model.predict(X_validate)\n",
    "\n",
    "# evaluate: rmse\n",
    "rmse_validate_lr = mean_squared_error(y_validate.assessment_value, y_validate.assessment_value_predict_lm)**(1/2)\n",
    "\n",
    "print(\"RMSE for OLS using LinearRegression\\nTraining/In-Sample: \", rmse_train_lr, \n",
    "      \"\\nValidation/Out-of-Sample: \", rmse_validate_lr)\n",
    "evs_lr = explained_variance_score(y_train.assessment_value, y_train.assessment_value_predict_lm)\n",
    "print('Explained Variance Linear Regression Model = ', round(evs_lr,3))"
   ]
  },
  {
   "cell_type": "markdown",
   "metadata": {},
   "source": [
    "#### Linear_regression takeaway:\n",
    "- The RMSE values for the training and validate differ by ~$3000.00\n",
    "- So due to the RMSE value representing dollars, I feel comfortable in saying this is an exceptable model.\n",
    "- Train out performed the baseline, as did the validate, so the model is valid and useful in predicting assessment value."
   ]
  },
  {
   "cell_type": "markdown",
   "metadata": {},
   "source": [
    "### Model 2 : Polynomial"
   ]
  },
  {
   "cell_type": "code",
   "execution_count": 27,
   "metadata": {},
   "outputs": [
    {
     "data": {
      "text/plain": [
       "((5036,), (5036, 5), (5036, 56))"
      ]
     },
     "execution_count": 27,
     "metadata": {},
     "output_type": "execute_result"
    }
   ],
   "source": [
    "# make the polynomial features to get a new set of features\n",
    "poly_feat = PolynomialFeatures(degree=3)\n",
    "\n",
    "# fit and transform X_train\n",
    "X_train_degree3 = poly_feat.fit_transform(X_train)\n",
    "\n",
    "# transform X_validate & X_test\n",
    "X_validate_degree3 = poly_feat.transform(X_validate)\n",
    "X_test_degree3 = poly_feat.transform(X_test)\n",
    "\n",
    "y_test.shape, X_test.shape, X_test_degree3.shape"
   ]
  },
  {
   "cell_type": "code",
   "execution_count": 28,
   "metadata": {},
   "outputs": [
    {
     "name": "stdout",
     "output_type": "stream",
     "text": [
      "RMSE for Polynomial Model, degrees=3\n",
      "Training/In-Sample:  230803.69804472508 \n",
      "Validation/Out-of-Sample:  227951.14520817724 \n",
      "Baseline RMSE value is  263663.9232487312\n",
      "Explained Variance Polynomial Model =  0.234\n"
     ]
    }
   ],
   "source": [
    "# create the model object\n",
    "linear_model3 = LinearRegression(normalize=True)\n",
    "\n",
    "# fit the model to our training data. We must specify the column in y_train, \n",
    "# since we have converted it to a dataframe from a series! \n",
    "linear_model3.fit(X_train_degree3, y_train.assessment_value)\n",
    "\n",
    "# predict train\n",
    "y_train['assessment_predict_linear_model3'] = linear_model3.predict(X_train_degree3)\n",
    "\n",
    "# evaluate: rmse\n",
    "rmse_train_poly = mean_squared_error(y_train.assessment_value, y_train.assessment_predict_linear_model3)**(1/2)\n",
    "\n",
    "# predict validate\n",
    "y_validate['assessment_predict_linear_model3'] = linear_model3.predict(X_validate_degree3)\n",
    "\n",
    "# evaluate: rmse\n",
    "rmse_validate_poly = mean_squared_error(y_validate.assessment_value, y_validate.assessment_predict_linear_model3)**(1/2)\n",
    "\n",
    "print(\"RMSE for Polynomial Model, degrees=3\\nTraining/In-Sample: \", rmse_train_poly, \n",
    "      \"\\nValidation/Out-of-Sample: \", rmse_validate_poly, \n",
    "      \"\\nBaseline RMSE value is \", baseline_RMSE)\n",
    "evs_poly = explained_variance_score(y_train.assessment_value, y_train.assessment_predict_linear_model3)\n",
    "print('Explained Variance Polynomial Model = ', round(evs_poly,3))"
   ]
  },
  {
   "cell_type": "markdown",
   "metadata": {},
   "source": [
    "#### Polynomial Model Takeaway:\n",
    "    \n",
    "- Polynomial performed same as regression\n",
    "- Model doesnt appear to be overfit.\n",
    "- Model performed better than the baseline."
   ]
  },
  {
   "cell_type": "markdown",
   "metadata": {},
   "source": [
    "### Model 3: Lasso Lars "
   ]
  },
  {
   "cell_type": "code",
   "execution_count": 29,
   "metadata": {},
   "outputs": [
    {
     "name": "stdout",
     "output_type": "stream",
     "text": [
      "RMSE for Lasso + Lars\n",
      "Training/In-Sample:  230956.70021901326 \n",
      "Validation/Out-of-Sample:  227978.63911303616 \n",
      "Baseline RMSE value is  263663.9232487312\n",
      "Explained Variance Linear Regression Model =  0.233\n"
     ]
    }
   ],
   "source": [
    "# create the model object\n",
    "lars_model = LassoLars(alpha=1.0)\n",
    "\n",
    "# fit the model to our training data. We must specify the column in y_train, \n",
    "# since we have converted it to a dataframe from a series! \n",
    "lars_model.fit(X_train, y_train.assessment_value)\n",
    "\n",
    "# predict train\n",
    "y_train['assessment_value_prediction_lars'] = lars_model.predict(X_train)\n",
    "\n",
    "# evaluate: rmse\n",
    "rmse_train_lars = mean_squared_error(y_train.assessment_value, y_train.assessment_value_prediction_lars)**(1/2)\n",
    "\n",
    "# predict validate\n",
    "y_validate['assessment_value_prediction_lars'] = lars_model.predict(X_validate)\n",
    "\n",
    "# evaluate: rmse\n",
    "rmse_validate_lars = mean_squared_error(y_validate.assessment_value, y_validate.assessment_value_prediction_lars)**(1/2)\n",
    "\n",
    "print(\"RMSE for Lasso + Lars\\nTraining/In-Sample: \", rmse_train_lars, \n",
    "      \"\\nValidation/Out-of-Sample: \", rmse_validate_lars,\n",
    "      \"\\nBaseline RMSE value is \", baseline_RMSE)\n",
    "evs_lars = explained_variance_score(y_train.assessment_value, y_train.assessment_value_prediction_lars)\n",
    "print('Explained Variance Linear Regression Model = ', round(evs_lars,3))"
   ]
  },
  {
   "cell_type": "code",
   "execution_count": null,
   "metadata": {},
   "outputs": [],
   "source": []
  },
  {
   "cell_type": "markdown",
   "metadata": {},
   "source": [
    "### Lasso Lars Model Takeaway:\n",
    "    \n",
    "- Lasso lars performed the worst out of every model\n",
    "- The model did perform better than the baseline so it is valid."
   ]
  },
  {
   "cell_type": "code",
   "execution_count": 30,
   "metadata": {},
   "outputs": [
    {
     "data": {
      "image/png": "[encoded data removed]",
      "text/plain": [
       "<Figure size 1152x1152 with 1 Axes>"
      ]
     },
     "metadata": {
      "needs_background": "light"
     },
     "output_type": "display_data"
    }
   ],
   "source": [
    "# plot to visualize actual vs predicted. \n",
    "plt.figure(figsize=(16,16))\n",
    "plt.hist(y_validate.assessment_value, color='grey', alpha=.5, label=\"Actual Assessment Value\")\n",
    "\n",
    "plt.hist(y_validate.assessment_predict_linear_model3, alpha=.5, color=\"green\", label=\"Model 2: 3rd degree Polynomial\")\n",
    "\n",
    "plt.xlabel(\"Actual Assessment Value\")\n",
    "plt.ylabel(\"Predicted Assessment\")\n",
    "plt.title(\"Assessment Actual vs. Predictions\")\n",
    "plt.legend()\n",
    "plt.show()"
   ]
  },
  {
   "cell_type": "code",
   "execution_count": 31,
   "metadata": {},
   "outputs": [
    {
     "data": {
      "image/png": "[encoded data removed]",
      "text/plain": [
       "<Figure size 1152x1152 with 1 Axes>"
      ]
     },
     "metadata": {
      "needs_background": "light"
     },
     "output_type": "display_data"
    }
   ],
   "source": [
    "# plot to visualize actual vs predicted. \n",
    "plt.figure(figsize=(16,16))\n",
    "plt.hist(y_validate.assessment_value, color='grey', alpha=.5, label=\"Actual Assessment Value\")\n",
    "plt.hist(y_validate.assessment_value_predict_lm, alpha=.5, color=\"yellow\", label=\"Model 2: Linear Regression Model\")\n",
    "plt.hist(y_validate.assessment_predict_linear_model3, alpha=.5, color=\"green\", label=\"Model 2: 3rd degree Polynomial\")\n",
    "plt.hist(y_validate.assessment_value_prediction_lars, alpha=.5, color=\"purple\", label=\"Model 3: Lasso Lars \")\n",
    "plt.xlabel(\"Actual Assessment Value\")\n",
    "plt.ylabel(\"Predicted Assessment\")\n",
    "plt.title(\"Assessment Actual vs. Predictions\")\n",
    "plt.legend()\n",
    "plt.show()"
   ]
  },
  {
   "cell_type": "markdown",
   "metadata": {},
   "source": [
    "#### Histo Chart Takeaway:\n",
    "- The main takeaway is that polynomial is the closer fit to the actual compared to other models. "
   ]
  },
  {
   "cell_type": "markdown",
   "metadata": {},
   "source": [
    "### MVP Model Takeaways: \n",
    "- Polynomial model performed better than lasso lars and regression. Ploynomial also performed better than the baseline so the model is viable."
   ]
  },
  {
   "cell_type": "markdown",
   "metadata": {},
   "source": [
    "# Evaluate On Test Dataset:"
   ]
  },
  {
   "cell_type": "markdown",
   "metadata": {},
   "source": [
    "--------------------"
   ]
  },
  {
   "cell_type": "code",
   "execution_count": 39,
   "metadata": {},
   "outputs": [
    {
     "name": "stdout",
     "output_type": "stream",
     "text": [
      "\n",
      "Test/Out-of-Sample:  229734.06061287798 \n",
      "Baseline RMSE value is  263663.9232487312\n",
      "Explained Variance Polynomial Model =  0.245\n"
     ]
    }
   ],
   "source": [
    "# create the model object\n",
    "# predict train\n",
    "# create dataframe\n",
    "y_test = pd.DataFrame(y_test)\n",
    "# use the model to make predictions\n",
    "y_test['assessment_predict_poly_test'] = linear_model3.predict(X_test_degree3)\n",
    "\n",
    "# evaluate: rmse\n",
    "rmse_test_poly = mean_squared_error(y_test.assessment_value, y_test.assessment_predict_poly_test)**(1/2)\n",
    "\n",
    "\n",
    "print(\"\\nTest/Out-of-Sample: \", rmse_test_poly,\n",
    "      \"\\nBaseline RMSE value is \", baseline_RMSE)\n",
    "evs_poly_test = explained_variance_score(y_test.assessment_value, y_test.assessment_predict_poly_test)\n",
    "print('Explained Variance Polynomial Model = ', round(evs_poly_test,3))\n",
    "\n",
    "\n"
   ]
  },
  {
   "cell_type": "markdown",
   "metadata": {},
   "source": [
    "--------------------------"
   ]
  },
  {
   "cell_type": "markdown",
   "metadata": {},
   "source": [
    "# Conclusions:"
   ]
  },
  {
   "cell_type": "markdown",
   "metadata": {},
   "source": [
    "#### - Using select features to predict the assessment value of single unit properties during May 2017- Aug 2017.\n",
    "#### - Utilized 5 features within model to predict assessment value.\n",
    "#### - Polynomial Model had lowest validate RMSE value: 227951.14 and performed better than the baseline RMSE value: 263663.92, so evaluated the test dataset using this model.\n",
    "#### - Evaluted model on test dataset, model performed better than the baseline.\n"
   ]
  },
  {
   "cell_type": "markdown",
   "metadata": {},
   "source": [
    "-----------------------------------"
   ]
  },
  {
   "cell_type": "markdown",
   "metadata": {},
   "source": [
    "## Other Deliverables:"
   ]
  },
  {
   "cell_type": "markdown",
   "metadata": {},
   "source": [
    "#### FIPS County Name"
   ]
  },
  {
   "cell_type": "code",
   "execution_count": 40,
   "metadata": {},
   "outputs": [
    {
     "data": {
      "text/plain": [
       "Los Angeles    17962\n",
       "Orange          7773\n",
       "Ventura         2683\n",
       "Name: county_name, dtype: int64"
      ]
     },
     "execution_count": 40,
     "metadata": {},
     "output_type": "execute_result"
    }
   ],
   "source": [
    "\n",
    "#Need to create columns which have state name and county name from the fips column.\n",
    "zillow_df['county_name'] = zillow_df['fips'].map({6037:'Los Angeles', 6059:'Orange', 6111:'Ventura'})\n",
    "zillow_df.county_name.value_counts()"
   ]
  },
  {
   "cell_type": "markdown",
   "metadata": {},
   "source": [
    "#### TAX RATE:"
   ]
  },
  {
   "cell_type": "code",
   "execution_count": 69,
   "metadata": {},
   "outputs": [
    {
     "name": "stdout",
     "output_type": "stream",
     "text": [
      "county_name\n",
      "Los Angeles    0.014088\n",
      "Orange         0.012080\n",
      "Ventura        0.011761\n",
      "Name: tax_rate, dtype: float64\n"
     ]
    }
   ],
   "source": [
    "#calculate TAX RATE\n",
    "zillow_df['tax_rate'] = zillow_df['taxamount']/zillow_df['taxvaluedollarcnt']\n",
    "print(zillow_df.groupby('county_name').tax_rate.mean())\n"
   ]
  },
  {
   "cell_type": "code",
   "execution_count": 41,
   "metadata": {},
   "outputs": [
    {
     "data": {
      "image/png": "[encoded data removed]",
      "text/plain": [
       "<Figure size 432x288 with 1 Axes>"
      ]
     },
     "metadata": {
      "needs_background": "light"
     },
     "output_type": "display_data"
    }
   ],
   "source": [
    "plt.title('Distribution by County')\n",
    "sns.countplot(zillow_df.county_name)\n",
    "plt.xlabel('County')\n",
    "plt.ylabel('Property Count')\n",
    "plt.show()"
   ]
  },
  {
   "cell_type": "code",
   "execution_count": 42,
   "metadata": {},
   "outputs": [
    {
     "data": {
      "image/png": "[encoded data removed]",
      "text/plain": [
       "<Figure size 1008x720 with 1 Axes>"
      ]
     },
     "metadata": {
      "needs_background": "light"
     },
     "output_type": "display_data"
    }
   ],
   "source": [
    "#Distiribution of Tax Rate by County\n",
    "plt.figure(figsize=(14,10))\n",
    "sns.histplot(data=zillow_df, x=\"tax_rate\", hue=\"county_name\",kde = False, bins = 750,  palette={'Orange':'red', 'Los Angeles':'green', 'Ventura':'navy'})\n",
    "plt.xlim(0, 0.03)\n",
    "plt.show()"
   ]
  },
  {
   "cell_type": "code",
   "execution_count": null,
   "metadata": {},
   "outputs": [],
   "source": []
  }
 ],
 "metadata": {
  "kernelspec": {
   "display_name": "Python 3",
   "language": "python",
   "name": "python3"
  },
  "language_info": {
   "codemirror_mode": {
    "name": "ipython",
    "version": 3
   },
   "file_extension": ".py",
   "mimetype": "text/x-python",
   "name": "python",
   "nbconvert_exporter": "python",
   "pygments_lexer": "ipython3",
   "version": "3.8.5"
  }
 },
 "nbformat": 4,
 "nbformat_minor": 4
}
